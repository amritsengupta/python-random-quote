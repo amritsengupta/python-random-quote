{
  "nbformat": 4,
  "nbformat_minor": 0,
  "metadata": {
    "kernelspec": {
      "display_name": "Python 3",
      "language": "python",
      "name": "python3"
    },
    "language_info": {
      "codemirror_mode": {
        "name": "ipython",
        "version": 3
      },
      "file_extension": ".py",
      "mimetype": "text/x-python",
      "name": "python",
      "nbconvert_exporter": "python",
      "pygments_lexer": "ipython3",
      "version": "3.7.6"
    },
    "colab": {
      "name": "27-28-5-2020.ipynb",
      "provenance": [],
      "include_colab_link": true
    }
  },
  "cells": [
    {
      "cell_type": "markdown",
      "metadata": {
        "id": "view-in-github",
        "colab_type": "text"
      },
      "source": [
        "<a href=\"https://colab.research.google.com/github/amritsengupta/python-random-quote/blob/master/27_28_5_2020.ipynb\" target=\"_parent\"><img src=\"https://colab.research.google.com/assets/colab-badge.svg\" alt=\"Open In Colab\"/></a>"
      ]
    },
    {
      "cell_type": "code",
      "metadata": {
        "id": "klCC-1vB8yXi",
        "colab_type": "code",
        "colab": {}
      },
      "source": [
        "#Data Structures /Sequences- Mutable & Immutable - Container - --Values[Strings, numbers-int, float, complex, Boolean]"
      ],
      "execution_count": 0,
      "outputs": []
    },
    {
      "cell_type": "code",
      "metadata": {
        "id": "N7lDvwAm8yX4",
        "colab_type": "code",
        "colab": {}
      },
      "source": [
        "#Mutable  - If the values in the DS can change "
      ],
      "execution_count": 0,
      "outputs": []
    },
    {
      "cell_type": "code",
      "metadata": {
        "id": "mKgoDmkn8yYL",
        "colab_type": "code",
        "colab": {}
      },
      "source": [
        "#Mutable DS - List, Dictionaries, Sets\n"
      ],
      "execution_count": 0,
      "outputs": []
    },
    {
      "cell_type": "code",
      "metadata": {
        "id": "mGJU8wgk8yYY",
        "colab_type": "code",
        "colab": {}
      },
      "source": [
        "list1 = [1,2,3,4,5,\"hello\", True] # Mutable, [], Heterogenous"
      ],
      "execution_count": 0,
      "outputs": []
    },
    {
      "cell_type": "code",
      "metadata": {
        "id": "cKnBHXGW8yYl",
        "colab_type": "code",
        "colab": {},
        "outputId": "9e30f55b-e6fa-4d00-c904-c1ec304d6c2b"
      },
      "source": [
        "list1"
      ],
      "execution_count": 0,
      "outputs": [
        {
          "output_type": "execute_result",
          "data": {
            "text/plain": [
              "[1, 2, 3, 4, 5, 'hello', True]"
            ]
          },
          "metadata": {
            "tags": []
          },
          "execution_count": 6
        }
      ]
    },
    {
      "cell_type": "code",
      "metadata": {
        "id": "_Je8ak598yY1",
        "colab_type": "code",
        "colab": {},
        "outputId": "340c4f89-3e50-461a-b014-ad10296aeb73"
      },
      "source": [
        "list1[6] # Indexing starts from zero in python"
      ],
      "execution_count": 0,
      "outputs": [
        {
          "output_type": "execute_result",
          "data": {
            "text/plain": [
              "True"
            ]
          },
          "metadata": {
            "tags": []
          },
          "execution_count": 7
        }
      ]
    },
    {
      "cell_type": "code",
      "metadata": {
        "id": "3AiZqziH8yZA",
        "colab_type": "code",
        "colab": {},
        "outputId": "39b69cb2-7cf2-417e-b427-99331d7c66be"
      },
      "source": [
        "list1[3]"
      ],
      "execution_count": 0,
      "outputs": [
        {
          "output_type": "execute_result",
          "data": {
            "text/plain": [
              "4"
            ]
          },
          "metadata": {
            "tags": []
          },
          "execution_count": 9
        }
      ]
    },
    {
      "cell_type": "code",
      "metadata": {
        "id": "b-d-XCS58yZM",
        "colab_type": "code",
        "colab": {},
        "outputId": "d9eb0ab3-859b-403a-c58a-c56e393d009d"
      },
      "source": [
        "list1[:] # All"
      ],
      "execution_count": 0,
      "outputs": [
        {
          "output_type": "execute_result",
          "data": {
            "text/plain": [
              "[1, 2, 3, 4, 5, 'hello', True]"
            ]
          },
          "metadata": {
            "tags": []
          },
          "execution_count": 10
        }
      ]
    },
    {
      "cell_type": "code",
      "metadata": {
        "id": "goY6ziGv8yZY",
        "colab_type": "code",
        "colab": {},
        "outputId": "56911053-7421-4d33-df95-591ddb1538aa"
      },
      "source": [
        "list1[0:] # since"
      ],
      "execution_count": 0,
      "outputs": [
        {
          "output_type": "execute_result",
          "data": {
            "text/plain": [
              "[1, 2, 3, 4, 5, 'hello', True]"
            ]
          },
          "metadata": {
            "tags": []
          },
          "execution_count": 11
        }
      ]
    },
    {
      "cell_type": "code",
      "metadata": {
        "id": "szO3AYve8yZn",
        "colab_type": "code",
        "colab": {},
        "outputId": "621e47cd-5304-4697-d565-fa4aa2c63ff2"
      },
      "source": [
        "list1[3:] # hence forth"
      ],
      "execution_count": 0,
      "outputs": [
        {
          "output_type": "execute_result",
          "data": {
            "text/plain": [
              "[4, 5, 'hello', True]"
            ]
          },
          "metadata": {
            "tags": []
          },
          "execution_count": 12
        }
      ]
    },
    {
      "cell_type": "code",
      "metadata": {
        "id": "C7Tb71qG8yZz",
        "colab_type": "code",
        "colab": {},
        "outputId": "dff9c691-602b-47fc-92b8-7c8950d669f6"
      },
      "source": [
        "list1[:0]"
      ],
      "execution_count": 0,
      "outputs": [
        {
          "output_type": "execute_result",
          "data": {
            "text/plain": [
              "[]"
            ]
          },
          "metadata": {
            "tags": []
          },
          "execution_count": 14
        }
      ]
    },
    {
      "cell_type": "code",
      "metadata": {
        "id": "PF0YkNk_8yZ_",
        "colab_type": "code",
        "colab": {},
        "outputId": "83141b88-5de2-467e-8797-f302e56d8b1d"
      },
      "source": [
        "list1[2:5] # from:to"
      ],
      "execution_count": 0,
      "outputs": [
        {
          "output_type": "execute_result",
          "data": {
            "text/plain": [
              "[3, 4, 5]"
            ]
          },
          "metadata": {
            "tags": []
          },
          "execution_count": 16
        }
      ]
    },
    {
      "cell_type": "code",
      "metadata": {
        "id": "FDNzv21A8yaM",
        "colab_type": "code",
        "colab": {},
        "outputId": "4e6877f3-d00b-4b03-91fc-a68694cbca14"
      },
      "source": [
        "list1[::-1]"
      ],
      "execution_count": 0,
      "outputs": [
        {
          "output_type": "execute_result",
          "data": {
            "text/plain": [
              "[True, 'hello', 5, 4, 3, 2, 1]"
            ]
          },
          "metadata": {
            "tags": []
          },
          "execution_count": 18
        }
      ]
    },
    {
      "cell_type": "code",
      "metadata": {
        "id": "ytmB62-N8yaY",
        "colab_type": "code",
        "colab": {},
        "outputId": "90ee831c-1cf9-4771-e1e4-a2f11938ab6a"
      },
      "source": [
        "list1"
      ],
      "execution_count": 0,
      "outputs": [
        {
          "output_type": "execute_result",
          "data": {
            "text/plain": [
              "[1, 2, 3, 4, 5, 'hello', True]"
            ]
          },
          "metadata": {
            "tags": []
          },
          "execution_count": 28
        }
      ]
    },
    {
      "cell_type": "code",
      "metadata": {
        "id": "9uUdwMLv8yaj",
        "colab_type": "code",
        "colab": {},
        "outputId": "26e33f21-1aef-4219-d7d2-b23c6f23c8be"
      },
      "source": [
        "list1[-1]"
      ],
      "execution_count": 0,
      "outputs": [
        {
          "output_type": "execute_result",
          "data": {
            "text/plain": [
              "True"
            ]
          },
          "metadata": {
            "tags": []
          },
          "execution_count": 19
        }
      ]
    },
    {
      "cell_type": "code",
      "metadata": {
        "id": "YzY2S5n88ya3",
        "colab_type": "code",
        "colab": {},
        "outputId": "85a70e0d-e2d2-48e3-d484-a955fa59e171"
      },
      "source": [
        "list1[-3:-2]"
      ],
      "execution_count": 0,
      "outputs": [
        {
          "output_type": "execute_result",
          "data": {
            "text/plain": [
              "[5]"
            ]
          },
          "metadata": {
            "tags": []
          },
          "execution_count": 29
        }
      ]
    },
    {
      "cell_type": "code",
      "metadata": {
        "id": "XX2m_eV98ybA",
        "colab_type": "code",
        "colab": {},
        "outputId": "0c6ae823-c101-4859-c5cc-fa1146af04fd"
      },
      "source": [
        "list1[-1]"
      ],
      "execution_count": 0,
      "outputs": [
        {
          "output_type": "execute_result",
          "data": {
            "text/plain": [
              "True"
            ]
          },
          "metadata": {
            "tags": []
          },
          "execution_count": 34
        }
      ]
    },
    {
      "cell_type": "code",
      "metadata": {
        "id": "YHu1yFHt8ybK",
        "colab_type": "code",
        "colab": {},
        "outputId": "257cd7ce-7410-4124-8205-ad3dfff2facb"
      },
      "source": [
        "list1[::-3]"
      ],
      "execution_count": 0,
      "outputs": [
        {
          "output_type": "execute_result",
          "data": {
            "text/plain": [
              "[True, 4, 1]"
            ]
          },
          "metadata": {
            "tags": []
          },
          "execution_count": 30
        }
      ]
    },
    {
      "cell_type": "code",
      "metadata": {
        "id": "idNJNXZG8ybQ",
        "colab_type": "code",
        "colab": {},
        "outputId": "dc4dafba-c15e-4fdc-d72c-7343932f9fb8"
      },
      "source": [
        "list1[2:4]"
      ],
      "execution_count": 0,
      "outputs": [
        {
          "output_type": "execute_result",
          "data": {
            "text/plain": [
              "[3, 4]"
            ]
          },
          "metadata": {
            "tags": []
          },
          "execution_count": 35
        }
      ]
    },
    {
      "cell_type": "code",
      "metadata": {
        "id": "65PO1edj8ybY",
        "colab_type": "code",
        "colab": {}
      },
      "source": [
        "list2 = [2,3,4,5,6]\n",
        "list3 = [5,8,7,6,5]"
      ],
      "execution_count": 0,
      "outputs": []
    },
    {
      "cell_type": "code",
      "metadata": {
        "id": "e1iNoOhD8ybe",
        "colab_type": "code",
        "colab": {},
        "outputId": "e7424bc7-43da-40ef-8e3f-5964a9c2ef90"
      },
      "source": [
        "list2+list3"
      ],
      "execution_count": 0,
      "outputs": [
        {
          "output_type": "execute_result",
          "data": {
            "text/plain": [
              "[2, 3, 4, 5, 6, 5, 8, 7, 6, 5]"
            ]
          },
          "metadata": {
            "tags": []
          },
          "execution_count": 37
        }
      ]
    },
    {
      "cell_type": "code",
      "metadata": {
        "id": "BQrVI7Wg8ybt",
        "colab_type": "code",
        "colab": {}
      },
      "source": [
        "import numpy as np"
      ],
      "execution_count": 0,
      "outputs": []
    },
    {
      "cell_type": "code",
      "metadata": {
        "id": "OpUg4dwU8yb0",
        "colab_type": "code",
        "colab": {}
      },
      "source": [
        "a1 = np.array(list2)"
      ],
      "execution_count": 0,
      "outputs": []
    },
    {
      "cell_type": "code",
      "metadata": {
        "id": "5OuF2ZGu8yb7",
        "colab_type": "code",
        "colab": {}
      },
      "source": [
        "a2 = np.array(list3)"
      ],
      "execution_count": 0,
      "outputs": []
    },
    {
      "cell_type": "code",
      "metadata": {
        "id": "YsmbirDk8ycC",
        "colab_type": "code",
        "colab": {},
        "outputId": "b8f5bdf4-74b3-4d9a-d0d2-10222ac7542c"
      },
      "source": [
        "a1+a2"
      ],
      "execution_count": 0,
      "outputs": [
        {
          "output_type": "execute_result",
          "data": {
            "text/plain": [
              "array([ 7, 11, 11, 11, 11])"
            ]
          },
          "metadata": {
            "tags": []
          },
          "execution_count": 42
        }
      ]
    },
    {
      "cell_type": "code",
      "metadata": {
        "id": "kVoHQggb8ycM",
        "colab_type": "code",
        "colab": {},
        "outputId": "2702a7cd-65d1-4eed-c4a5-56902eaee169"
      },
      "source": [
        "list2*5"
      ],
      "execution_count": 0,
      "outputs": [
        {
          "output_type": "execute_result",
          "data": {
            "text/plain": [
              "[2, 3, 4, 5, 6, 2, 3, 4, 5, 6, 2, 3, 4, 5, 6, 2, 3, 4, 5, 6, 2, 3, 4, 5, 6]"
            ]
          },
          "metadata": {
            "tags": []
          },
          "execution_count": 43
        }
      ]
    },
    {
      "cell_type": "code",
      "metadata": {
        "id": "RZQUWIyx8ycT",
        "colab_type": "code",
        "colab": {},
        "outputId": "ac26e6c4-b279-4634-b969-47c650d4b278"
      },
      "source": [
        "100 in list1"
      ],
      "execution_count": 0,
      "outputs": [
        {
          "output_type": "execute_result",
          "data": {
            "text/plain": [
              "False"
            ]
          },
          "metadata": {
            "tags": []
          },
          "execution_count": 44
        }
      ]
    },
    {
      "cell_type": "code",
      "metadata": {
        "id": "vqEsOG_28ycd",
        "colab_type": "code",
        "colab": {},
        "outputId": "24274903-00bd-48dc-c59e-84907049dd14"
      },
      "source": [
        "100 not in list1"
      ],
      "execution_count": 0,
      "outputs": [
        {
          "output_type": "execute_result",
          "data": {
            "text/plain": [
              "True"
            ]
          },
          "metadata": {
            "tags": []
          },
          "execution_count": 45
        }
      ]
    },
    {
      "cell_type": "code",
      "metadata": {
        "id": "85xWeo2L8yck",
        "colab_type": "code",
        "colab": {},
        "outputId": "17681835-48d0-4337-db9a-8ef4950cec63"
      },
      "source": [
        "\"hello\" in list1"
      ],
      "execution_count": 0,
      "outputs": [
        {
          "output_type": "execute_result",
          "data": {
            "text/plain": [
              "True"
            ]
          },
          "metadata": {
            "tags": []
          },
          "execution_count": 46
        }
      ]
    },
    {
      "cell_type": "code",
      "metadata": {
        "id": "6t0PjiSC8yct",
        "colab_type": "code",
        "colab": {}
      },
      "source": [
        "#Sequence Operations\n",
        "#Indexing - Identifying the location of itmes\n",
        "#Slicing - Extracting items out of list\n",
        "#Concatenation = Addition\n",
        "#Repetition = Repetition\n",
        "#Membership Testing = check a given value in ds"
      ],
      "execution_count": 0,
      "outputs": []
    },
    {
      "cell_type": "code",
      "metadata": {
        "id": "f1GaCW8b8ycy",
        "colab_type": "code",
        "colab": {}
      },
      "source": [
        "#Dictionaries - {}, heterogenous, Mutable, Key - value pairs"
      ],
      "execution_count": 0,
      "outputs": []
    },
    {
      "cell_type": "code",
      "metadata": {
        "id": "PJMaHTDq8yc4",
        "colab_type": "code",
        "colab": {}
      },
      "source": [
        "dict1 = {\"Age\": 35, \"Gender\": \"Male\"}"
      ],
      "execution_count": 0,
      "outputs": []
    },
    {
      "cell_type": "code",
      "metadata": {
        "id": "IwD79-7M8ydB",
        "colab_type": "code",
        "colab": {},
        "outputId": "8c068b5e-5791-4183-eb13-80070604c210"
      },
      "source": [
        "dict1"
      ],
      "execution_count": 0,
      "outputs": [
        {
          "output_type": "execute_result",
          "data": {
            "text/plain": [
              "{'Age': 35, 'Gender': 'Male'}"
            ]
          },
          "metadata": {
            "tags": []
          },
          "execution_count": 50
        }
      ]
    },
    {
      "cell_type": "code",
      "metadata": {
        "id": "VO6bBq8H8ydI",
        "colab_type": "code",
        "colab": {},
        "outputId": "c99f2c33-de9f-4660-a8e1-6ca8ed2c75cb"
      },
      "source": [
        "dict1.keys()"
      ],
      "execution_count": 0,
      "outputs": [
        {
          "output_type": "execute_result",
          "data": {
            "text/plain": [
              "dict_keys(['Age', 'Gender'])"
            ]
          },
          "metadata": {
            "tags": []
          },
          "execution_count": 51
        }
      ]
    },
    {
      "cell_type": "code",
      "metadata": {
        "id": "n3D6OiQd8ydO",
        "colab_type": "code",
        "colab": {},
        "outputId": "c274886a-3f40-485a-e941-2faa11c1c11b"
      },
      "source": [
        "dict1.values()"
      ],
      "execution_count": 0,
      "outputs": [
        {
          "output_type": "execute_result",
          "data": {
            "text/plain": [
              "dict_values([35, 'Male'])"
            ]
          },
          "metadata": {
            "tags": []
          },
          "execution_count": 52
        }
      ]
    },
    {
      "cell_type": "code",
      "metadata": {
        "id": "VB2UWDKR8ydZ",
        "colab_type": "code",
        "colab": {},
        "outputId": "3b9ba5bc-df7b-4493-c00c-3b475618d7ad"
      },
      "source": [
        "dict1[\"Age\"]"
      ],
      "execution_count": 0,
      "outputs": [
        {
          "output_type": "execute_result",
          "data": {
            "text/plain": [
              "35"
            ]
          },
          "metadata": {
            "tags": []
          },
          "execution_count": 54
        }
      ]
    },
    {
      "cell_type": "code",
      "metadata": {
        "id": "0qz0-1-B8ydh",
        "colab_type": "code",
        "colab": {},
        "outputId": "ab173296-f97a-4d35-b7ac-3118e5a532e3"
      },
      "source": [
        "type(dict1)"
      ],
      "execution_count": 0,
      "outputs": [
        {
          "output_type": "execute_result",
          "data": {
            "text/plain": [
              "dict"
            ]
          },
          "metadata": {
            "tags": []
          },
          "execution_count": 55
        }
      ]
    },
    {
      "cell_type": "code",
      "metadata": {
        "id": "DZigLVSF8ydo",
        "colab_type": "code",
        "colab": {},
        "outputId": "551f724a-67a8-4576-ccbf-dce722040937"
      },
      "source": [
        "type(list1)"
      ],
      "execution_count": 0,
      "outputs": [
        {
          "output_type": "execute_result",
          "data": {
            "text/plain": [
              "list"
            ]
          },
          "metadata": {
            "tags": []
          },
          "execution_count": 56
        }
      ]
    },
    {
      "cell_type": "code",
      "metadata": {
        "id": "KP_6huZx8ydv",
        "colab_type": "code",
        "colab": {}
      },
      "source": [
        "#Sets = {}, Unique\n",
        "\n",
        "set1 = {1,1,1,1,2,2,2,2,3,3,3,4,54,4, \"Python\"}\n",
        "\n"
      ],
      "execution_count": 0,
      "outputs": []
    },
    {
      "cell_type": "code",
      "metadata": {
        "id": "Repm0AlP8yd0",
        "colab_type": "code",
        "colab": {},
        "outputId": "eff47f88-65a6-4342-d11d-d2b88b3c1393"
      },
      "source": [
        "set1"
      ],
      "execution_count": 0,
      "outputs": [
        {
          "output_type": "execute_result",
          "data": {
            "text/plain": [
              "{1, 2, 3, 4, 54, 'Python'}"
            ]
          },
          "metadata": {
            "tags": []
          },
          "execution_count": 64
        }
      ]
    },
    {
      "cell_type": "code",
      "metadata": {
        "id": "pIrylgjL8yd5",
        "colab_type": "code",
        "colab": {}
      },
      "source": [
        "set2 = {3,3,3,4,4,6,56,6,6,7,7,7, \"Hello\"}"
      ],
      "execution_count": 0,
      "outputs": []
    },
    {
      "cell_type": "code",
      "metadata": {
        "id": "8b64Qmnm8yeA",
        "colab_type": "code",
        "colab": {},
        "outputId": "7f12f249-8f67-4692-e80c-5195407f7a21"
      },
      "source": [
        "set1|set2 #union"
      ],
      "execution_count": 0,
      "outputs": [
        {
          "output_type": "execute_result",
          "data": {
            "text/plain": [
              "{1, 2, 3, 4, 54, 56, 6, 7, 'Hello', 'Python'}"
            ]
          },
          "metadata": {
            "tags": []
          },
          "execution_count": 67
        }
      ]
    },
    {
      "cell_type": "code",
      "metadata": {
        "id": "3nAW2SqA8yeF",
        "colab_type": "code",
        "colab": {},
        "outputId": "1e3c6e61-32e4-4f94-8914-092c1c5cd719"
      },
      "source": [
        "set1-set2"
      ],
      "execution_count": 0,
      "outputs": [
        {
          "output_type": "execute_result",
          "data": {
            "text/plain": [
              "{1, 2, 54, 'Python'}"
            ]
          },
          "metadata": {
            "tags": []
          },
          "execution_count": 68
        }
      ]
    },
    {
      "cell_type": "code",
      "metadata": {
        "id": "tStKFjfe8yeL",
        "colab_type": "code",
        "colab": {},
        "outputId": "dfbaa3cc-ffef-49e6-f965-9419482d5a8f"
      },
      "source": [
        "set2-set1"
      ],
      "execution_count": 0,
      "outputs": [
        {
          "output_type": "execute_result",
          "data": {
            "text/plain": [
              "{56, 6, 7, 'Hello'}"
            ]
          },
          "metadata": {
            "tags": []
          },
          "execution_count": 69
        }
      ]
    },
    {
      "cell_type": "code",
      "metadata": {
        "id": "iGRIgr9C8yeR",
        "colab_type": "code",
        "colab": {},
        "outputId": "9edae0cf-bd9c-4466-c3b7-44a384756696"
      },
      "source": [
        "set1.union(set2) #|"
      ],
      "execution_count": 0,
      "outputs": [
        {
          "output_type": "execute_result",
          "data": {
            "text/plain": [
              "{1, 2, 3, 4, 54, 56, 6, 7, 'Hello', 'Python'}"
            ]
          },
          "metadata": {
            "tags": []
          },
          "execution_count": 70
        }
      ]
    },
    {
      "cell_type": "code",
      "metadata": {
        "id": "N3re79e78yed",
        "colab_type": "code",
        "colab": {},
        "outputId": "2aeecae2-7eac-4c36-da83-ca6c40f6f4a5"
      },
      "source": [
        "set1.difference(set2) #-"
      ],
      "execution_count": 0,
      "outputs": [
        {
          "output_type": "execute_result",
          "data": {
            "text/plain": [
              "{1, 2, 54, 'Python'}"
            ]
          },
          "metadata": {
            "tags": []
          },
          "execution_count": 71
        }
      ]
    },
    {
      "cell_type": "code",
      "metadata": {
        "id": "vBK623IL8yev",
        "colab_type": "code",
        "colab": {},
        "outputId": "a561f1c1-ffd2-4eb1-8e44-1cddbc244f2e"
      },
      "source": [
        "set1&set2 #Intersection"
      ],
      "execution_count": 0,
      "outputs": [
        {
          "output_type": "execute_result",
          "data": {
            "text/plain": [
              "{3, 4}"
            ]
          },
          "metadata": {
            "tags": []
          },
          "execution_count": 72
        }
      ]
    },
    {
      "cell_type": "code",
      "metadata": {
        "id": "nvqzwT098ye4",
        "colab_type": "code",
        "colab": {},
        "outputId": "b85875d2-90d3-4dcc-ba62-762a2b140dde"
      },
      "source": [
        "set1.intersection(set2) #Inter"
      ],
      "execution_count": 0,
      "outputs": [
        {
          "output_type": "execute_result",
          "data": {
            "text/plain": [
              "{3, 4}"
            ]
          },
          "metadata": {
            "tags": []
          },
          "execution_count": 73
        }
      ]
    },
    {
      "cell_type": "code",
      "metadata": {
        "id": "KoTT8viM8ye-",
        "colab_type": "code",
        "colab": {},
        "outputId": "f9493280-1824-4350-b680-edfb4e3c8936"
      },
      "source": [
        "set1.issubset(set2)"
      ],
      "execution_count": 0,
      "outputs": [
        {
          "output_type": "execute_result",
          "data": {
            "text/plain": [
              "False"
            ]
          },
          "metadata": {
            "tags": []
          },
          "execution_count": 74
        }
      ]
    },
    {
      "cell_type": "code",
      "metadata": {
        "id": "6mMbp_Vs8yfJ",
        "colab_type": "code",
        "colab": {},
        "outputId": "5b615e67-8c29-45b1-9409-84fbb0d15560"
      },
      "source": [
        "set2.issuperset(set1)"
      ],
      "execution_count": 0,
      "outputs": [
        {
          "output_type": "execute_result",
          "data": {
            "text/plain": [
              "False"
            ]
          },
          "metadata": {
            "tags": []
          },
          "execution_count": 75
        }
      ]
    },
    {
      "cell_type": "code",
      "metadata": {
        "id": "qKEDtDCm8yfU",
        "colab_type": "code",
        "colab": {}
      },
      "source": [
        "set1 = {1,2,3}"
      ],
      "execution_count": 0,
      "outputs": []
    },
    {
      "cell_type": "code",
      "metadata": {
        "id": "KFDQS9MW8yfZ",
        "colab_type": "code",
        "colab": {}
      },
      "source": [
        "set2 = {1,2}"
      ],
      "execution_count": 0,
      "outputs": []
    },
    {
      "cell_type": "code",
      "metadata": {
        "id": "ifVs3aa58yfd",
        "colab_type": "code",
        "colab": {},
        "outputId": "2cacc14d-05f2-42b8-c13e-76efe3158162"
      },
      "source": [
        "set1.issuperset(set2)"
      ],
      "execution_count": 0,
      "outputs": [
        {
          "output_type": "execute_result",
          "data": {
            "text/plain": [
              "True"
            ]
          },
          "metadata": {
            "tags": []
          },
          "execution_count": 78
        }
      ]
    },
    {
      "cell_type": "code",
      "metadata": {
        "id": "BxhkA2RA8yfl",
        "colab_type": "code",
        "colab": {},
        "outputId": "7b991fc4-6667-420a-d72a-b2eeb262d2e6"
      },
      "source": [
        "set2.issubset(set1)"
      ],
      "execution_count": 0,
      "outputs": [
        {
          "output_type": "execute_result",
          "data": {
            "text/plain": [
              "True"
            ]
          },
          "metadata": {
            "tags": []
          },
          "execution_count": 79
        }
      ]
    },
    {
      "cell_type": "code",
      "metadata": {
        "id": "GoontdXL8yfp",
        "colab_type": "code",
        "colab": {},
        "outputId": "9bbc65e3-f794-4422-dfcb-25fe11fc09a6"
      },
      "source": [
        "set1.issubset(set2)"
      ],
      "execution_count": 0,
      "outputs": [
        {
          "output_type": "execute_result",
          "data": {
            "text/plain": [
              "False"
            ]
          },
          "metadata": {
            "tags": []
          },
          "execution_count": 80
        }
      ]
    },
    {
      "cell_type": "code",
      "metadata": {
        "id": "FMkQ2N7E8yf1",
        "colab_type": "code",
        "colab": {}
      },
      "source": [
        "#Immutable DS - Tuples, Strings, NUmeric"
      ],
      "execution_count": 0,
      "outputs": []
    },
    {
      "cell_type": "code",
      "metadata": {
        "id": "RbNvrSyG8yf-",
        "colab_type": "code",
        "colab": {}
      },
      "source": [
        "#Tuple - Immutable, cant change values, (), Heterogenous"
      ],
      "execution_count": 0,
      "outputs": []
    },
    {
      "cell_type": "code",
      "metadata": {
        "id": "NLn5rI2-8ygD",
        "colab_type": "code",
        "colab": {}
      },
      "source": [
        "tup1 = (1,2,3,4,5,\"Python\")"
      ],
      "execution_count": 0,
      "outputs": []
    },
    {
      "cell_type": "code",
      "metadata": {
        "id": "Ypi8puNF8ygL",
        "colab_type": "code",
        "colab": {},
        "outputId": "e0bede97-6356-43c7-dc50-419d7d01d603"
      },
      "source": [
        "tup1[0]"
      ],
      "execution_count": 0,
      "outputs": [
        {
          "output_type": "execute_result",
          "data": {
            "text/plain": [
              "1"
            ]
          },
          "metadata": {
            "tags": []
          },
          "execution_count": 84
        }
      ]
    },
    {
      "cell_type": "code",
      "metadata": {
        "id": "DzZJli8W8ygO",
        "colab_type": "code",
        "colab": {},
        "outputId": "46853f77-4a83-49af-8b43-169c6d17aa3b"
      },
      "source": [
        "tup1[::-1]"
      ],
      "execution_count": 0,
      "outputs": [
        {
          "output_type": "execute_result",
          "data": {
            "text/plain": [
              "('Python', 5, 4, 3, 2, 1)"
            ]
          },
          "metadata": {
            "tags": []
          },
          "execution_count": 87
        }
      ]
    },
    {
      "cell_type": "code",
      "metadata": {
        "id": "mGpkqsCG8ygT",
        "colab_type": "code",
        "colab": {},
        "outputId": "3612f04b-78bf-4e16-cf0a-9bbbf1904363"
      },
      "source": [
        "list1"
      ],
      "execution_count": 0,
      "outputs": [
        {
          "output_type": "execute_result",
          "data": {
            "text/plain": [
              "[1, 2, 3, 4, 5, 'hello', True]"
            ]
          },
          "metadata": {
            "tags": []
          },
          "execution_count": 88
        }
      ]
    },
    {
      "cell_type": "code",
      "metadata": {
        "id": "Wccr8nnZ8yga",
        "colab_type": "code",
        "colab": {}
      },
      "source": [
        "list1[5] = \"Hello Tune\""
      ],
      "execution_count": 0,
      "outputs": []
    },
    {
      "cell_type": "code",
      "metadata": {
        "id": "l5UyQHRK8yge",
        "colab_type": "code",
        "colab": {},
        "outputId": "e77a329b-6886-4436-c846-dfa843e54412"
      },
      "source": [
        "list1"
      ],
      "execution_count": 0,
      "outputs": [
        {
          "output_type": "execute_result",
          "data": {
            "text/plain": [
              "[1, 2, 3, 4, 5, 'Hello Tune', True]"
            ]
          },
          "metadata": {
            "tags": []
          },
          "execution_count": 90
        }
      ]
    },
    {
      "cell_type": "code",
      "metadata": {
        "id": "AI4BMgJT8ygj",
        "colab_type": "code",
        "colab": {},
        "outputId": "822091b0-40ef-41a8-9711-bfbae74528f3"
      },
      "source": [
        "tup1 "
      ],
      "execution_count": 0,
      "outputs": [
        {
          "output_type": "execute_result",
          "data": {
            "text/plain": [
              "(1, 2, 3, 4, 5, 'Python')"
            ]
          },
          "metadata": {
            "tags": []
          },
          "execution_count": 91
        }
      ]
    },
    {
      "cell_type": "code",
      "metadata": {
        "id": "2r64ayjz8ygp",
        "colab_type": "code",
        "colab": {},
        "outputId": "c2da5b11-f50a-4088-c9ae-a28cc4cc89c6"
      },
      "source": [
        "tup1[5] = \"Anaconda\""
      ],
      "execution_count": 0,
      "outputs": [
        {
          "output_type": "error",
          "ename": "TypeError",
          "evalue": "'tuple' object does not support item assignment",
          "traceback": [
            "\u001b[0;31m---------------------------------------------------------------------------\u001b[0m",
            "\u001b[0;31mTypeError\u001b[0m                                 Traceback (most recent call last)",
            "\u001b[0;32m<ipython-input-92-20c1ea9831c0>\u001b[0m in \u001b[0;36m<module>\u001b[0;34m\u001b[0m\n\u001b[0;32m----> 1\u001b[0;31m \u001b[0mtup1\u001b[0m\u001b[0;34m[\u001b[0m\u001b[0;36m5\u001b[0m\u001b[0;34m]\u001b[0m \u001b[0;34m=\u001b[0m \u001b[0;34m\"Anaconda\"\u001b[0m\u001b[0;34m\u001b[0m\u001b[0;34m\u001b[0m\u001b[0m\n\u001b[0m",
            "\u001b[0;31mTypeError\u001b[0m: 'tuple' object does not support item assignment"
          ]
        }
      ]
    },
    {
      "cell_type": "code",
      "metadata": {
        "id": "X53KNPsQ8ygt",
        "colab_type": "code",
        "colab": {}
      },
      "source": [
        "tup2 = ([1,2,3,4,5,\"Hi\"])"
      ],
      "execution_count": 0,
      "outputs": []
    },
    {
      "cell_type": "code",
      "metadata": {
        "id": "JgXBDOLu8ygx",
        "colab_type": "code",
        "colab": {},
        "outputId": "c52f4944-5343-4ef4-e757-e66f2a8266c7"
      },
      "source": [
        "tup2"
      ],
      "execution_count": 0,
      "outputs": [
        {
          "output_type": "execute_result",
          "data": {
            "text/plain": [
              "[1, 2, 3, 4, 5, 'Hi']"
            ]
          },
          "metadata": {
            "tags": []
          },
          "execution_count": 94
        }
      ]
    },
    {
      "cell_type": "code",
      "metadata": {
        "id": "URs0EJnO8yg3",
        "colab_type": "code",
        "colab": {},
        "outputId": "cc857654-ecc8-40d0-8d1e-13259b38344a"
      },
      "source": [
        "type(tup2)"
      ],
      "execution_count": 0,
      "outputs": [
        {
          "output_type": "execute_result",
          "data": {
            "text/plain": [
              "list"
            ]
          },
          "metadata": {
            "tags": []
          },
          "execution_count": 95
        }
      ]
    },
    {
      "cell_type": "code",
      "metadata": {
        "id": "WYZ1QvLp8yg9",
        "colab_type": "code",
        "colab": {}
      },
      "source": [
        "tup2[3] = \"Python\""
      ],
      "execution_count": 0,
      "outputs": []
    },
    {
      "cell_type": "code",
      "metadata": {
        "id": "G4DqBDfc8yhA",
        "colab_type": "code",
        "colab": {},
        "outputId": "ff530936-b93c-4ba9-b0c3-952f4163b9cb"
      },
      "source": [
        "tup2"
      ],
      "execution_count": 0,
      "outputs": [
        {
          "output_type": "execute_result",
          "data": {
            "text/plain": [
              "[1, 2, 3, 'Python', 5, 'Hi']"
            ]
          },
          "metadata": {
            "tags": []
          },
          "execution_count": 97
        }
      ]
    },
    {
      "cell_type": "code",
      "metadata": {
        "id": "sz6XOyAm8yhE",
        "colab_type": "code",
        "colab": {}
      },
      "source": [
        "list3 = [(1,2,3,4,5)]"
      ],
      "execution_count": 0,
      "outputs": []
    },
    {
      "cell_type": "code",
      "metadata": {
        "id": "gpQqg5IH8yhO",
        "colab_type": "code",
        "colab": {},
        "outputId": "36ec9669-2390-4f72-fbcd-079a4fed287d"
      },
      "source": [
        "type(list3)"
      ],
      "execution_count": 0,
      "outputs": [
        {
          "output_type": "execute_result",
          "data": {
            "text/plain": [
              "list"
            ]
          },
          "metadata": {
            "tags": []
          },
          "execution_count": 99
        }
      ]
    },
    {
      "cell_type": "code",
      "metadata": {
        "id": "veKiuss-8yhV",
        "colab_type": "code",
        "colab": {}
      },
      "source": [
        "list3[0] = \"Men\""
      ],
      "execution_count": 0,
      "outputs": []
    },
    {
      "cell_type": "code",
      "metadata": {
        "id": "VFOMLCic8yhZ",
        "colab_type": "code",
        "colab": {},
        "outputId": "0b60b49b-d28b-40bc-9ccc-939ff00fafaf"
      },
      "source": [
        "list3"
      ],
      "execution_count": 0,
      "outputs": [
        {
          "output_type": "execute_result",
          "data": {
            "text/plain": [
              "['Men']"
            ]
          },
          "metadata": {
            "tags": []
          },
          "execution_count": 101
        }
      ]
    },
    {
      "cell_type": "code",
      "metadata": {
        "id": "iPccWX4k8yhe",
        "colab_type": "code",
        "colab": {},
        "outputId": "83887279-456c-497c-db31-a69e19adae4f"
      },
      "source": [
        "list3[0]"
      ],
      "execution_count": 0,
      "outputs": [
        {
          "output_type": "execute_result",
          "data": {
            "text/plain": [
              "'Men'"
            ]
          },
          "metadata": {
            "tags": []
          },
          "execution_count": 102
        }
      ]
    },
    {
      "cell_type": "code",
      "metadata": {
        "id": "z4NgN47n8yhi",
        "colab_type": "code",
        "colab": {},
        "outputId": "1d35713f-ee08-44c5-d4a6-ca473c0cf04f"
      },
      "source": [
        "list3[0][2] = \"Python\""
      ],
      "execution_count": 0,
      "outputs": [
        {
          "output_type": "error",
          "ename": "TypeError",
          "evalue": "'tuple' object does not support item assignment",
          "traceback": [
            "\u001b[0;31m---------------------------------------------------------------------------\u001b[0m",
            "\u001b[0;31mTypeError\u001b[0m                                 Traceback (most recent call last)",
            "\u001b[0;32m<ipython-input-106-8f2f861a67ff>\u001b[0m in \u001b[0;36m<module>\u001b[0;34m\u001b[0m\n\u001b[0;32m----> 1\u001b[0;31m \u001b[0mlist3\u001b[0m\u001b[0;34m[\u001b[0m\u001b[0;36m0\u001b[0m\u001b[0;34m]\u001b[0m\u001b[0;34m[\u001b[0m\u001b[0;36m2\u001b[0m\u001b[0;34m]\u001b[0m \u001b[0;34m=\u001b[0m \u001b[0;34m\"Python\"\u001b[0m\u001b[0;34m\u001b[0m\u001b[0;34m\u001b[0m\u001b[0m\n\u001b[0m",
            "\u001b[0;31mTypeError\u001b[0m: 'tuple' object does not support item assignment"
          ]
        }
      ]
    },
    {
      "cell_type": "code",
      "metadata": {
        "id": "IuoVmV2E8yhl",
        "colab_type": "code",
        "colab": {}
      },
      "source": [
        "#Strings - \"\", \"\"\"\"\"\", "
      ],
      "execution_count": 0,
      "outputs": []
    },
    {
      "cell_type": "code",
      "metadata": {
        "id": "Fec8w-PY8yht",
        "colab_type": "code",
        "colab": {}
      },
      "source": [
        "str1 = \"Simplilearn\""
      ],
      "execution_count": 0,
      "outputs": []
    },
    {
      "cell_type": "code",
      "metadata": {
        "id": "meh_jNCS8yhx",
        "colab_type": "code",
        "colab": {},
        "outputId": "8586cd67-82c2-44c8-91d2-524292eab303"
      },
      "source": [
        "str1"
      ],
      "execution_count": 0,
      "outputs": [
        {
          "output_type": "execute_result",
          "data": {
            "text/plain": [
              "'Simplilearn'"
            ]
          },
          "metadata": {
            "tags": []
          },
          "execution_count": 108
        }
      ]
    },
    {
      "cell_type": "code",
      "metadata": {
        "id": "frRPFBza8yh2",
        "colab_type": "code",
        "colab": {},
        "outputId": "016a92aa-841e-4d68-d1d7-aa3d9feba665"
      },
      "source": [
        "str1[0:5]"
      ],
      "execution_count": 0,
      "outputs": [
        {
          "output_type": "execute_result",
          "data": {
            "text/plain": [
              "'Simpl'"
            ]
          },
          "metadata": {
            "tags": []
          },
          "execution_count": 110
        }
      ]
    },
    {
      "cell_type": "code",
      "metadata": {
        "id": "kVyNeRnI8yh8",
        "colab_type": "code",
        "colab": {},
        "outputId": "914ee272-e03b-441f-f9ef-bb0cb1c173b0"
      },
      "source": [
        "str1[::-1]"
      ],
      "execution_count": 0,
      "outputs": [
        {
          "output_type": "execute_result",
          "data": {
            "text/plain": [
              "'nraelilpmiS'"
            ]
          },
          "metadata": {
            "tags": []
          },
          "execution_count": 111
        }
      ]
    },
    {
      "cell_type": "code",
      "metadata": {
        "id": "KKe56BPM8yiC",
        "colab_type": "code",
        "colab": {},
        "outputId": "5d297390-7086-4a93-8db8-a574f578d245"
      },
      "source": [
        "str1*5"
      ],
      "execution_count": 0,
      "outputs": [
        {
          "output_type": "execute_result",
          "data": {
            "text/plain": [
              "'SimplilearnSimplilearnSimplilearnSimplilearnSimplilearn'"
            ]
          },
          "metadata": {
            "tags": []
          },
          "execution_count": 112
        }
      ]
    },
    {
      "cell_type": "code",
      "metadata": {
        "id": "TMLXLcxW8yiF",
        "colab_type": "code",
        "colab": {},
        "outputId": "930c7add-76d0-4d50-ac5e-23780ae4311a"
      },
      "source": [
        "'n' in 'Simplilearn'"
      ],
      "execution_count": 0,
      "outputs": [
        {
          "output_type": "execute_result",
          "data": {
            "text/plain": [
              "True"
            ]
          },
          "metadata": {
            "tags": []
          },
          "execution_count": 113
        }
      ]
    },
    {
      "cell_type": "code",
      "metadata": {
        "id": "zzWoqJDY8yiL",
        "colab_type": "code",
        "colab": {},
        "outputId": "dbd2f0e0-565a-402f-a0bf-4c48ebd1e07c"
      },
      "source": [
        "str1[0] = \"X\""
      ],
      "execution_count": 0,
      "outputs": [
        {
          "output_type": "error",
          "ename": "TypeError",
          "evalue": "'str' object does not support item assignment",
          "traceback": [
            "\u001b[0;31m---------------------------------------------------------------------------\u001b[0m",
            "\u001b[0;31mTypeError\u001b[0m                                 Traceback (most recent call last)",
            "\u001b[0;32m<ipython-input-114-3f7627899d97>\u001b[0m in \u001b[0;36m<module>\u001b[0;34m\u001b[0m\n\u001b[0;32m----> 1\u001b[0;31m \u001b[0mstr1\u001b[0m\u001b[0;34m[\u001b[0m\u001b[0;36m0\u001b[0m\u001b[0;34m]\u001b[0m \u001b[0;34m=\u001b[0m \u001b[0;34m\"X\"\u001b[0m\u001b[0;34m\u001b[0m\u001b[0;34m\u001b[0m\u001b[0m\n\u001b[0m",
            "\u001b[0;31mTypeError\u001b[0m: 'str' object does not support item assignment"
          ]
        }
      ]
    },
    {
      "cell_type": "code",
      "metadata": {
        "id": "Z5Bh9j6u8yiP",
        "colab_type": "code",
        "colab": {}
      },
      "source": [
        "#Operators, Loops-for, while, break, pass, continue, Conditional Statements - if, elif, else, DS, user defined functions"
      ],
      "execution_count": 0,
      "outputs": []
    },
    {
      "cell_type": "code",
      "metadata": {
        "id": "K4nB3f2u8yiS",
        "colab_type": "code",
        "colab": {},
        "outputId": "9aabcf9a-2465-4707-97d1-0177e8f842a8"
      },
      "source": [
        "list1"
      ],
      "execution_count": 0,
      "outputs": [
        {
          "output_type": "execute_result",
          "data": {
            "text/plain": [
              "[1, 2, 3, 4, 5, 'Hello Tune', True]"
            ]
          },
          "metadata": {
            "tags": []
          },
          "execution_count": 116
        }
      ]
    },
    {
      "cell_type": "code",
      "metadata": {
        "id": "34kBtzh78yiW",
        "colab_type": "code",
        "colab": {},
        "outputId": "3944e108-78f7-4cbe-8def-f7b879063b21"
      },
      "source": [
        "list1.pop(3)"
      ],
      "execution_count": 0,
      "outputs": [
        {
          "output_type": "execute_result",
          "data": {
            "text/plain": [
              "4"
            ]
          },
          "metadata": {
            "tags": []
          },
          "execution_count": 117
        }
      ]
    },
    {
      "cell_type": "code",
      "metadata": {
        "id": "Y3162E0O8yib",
        "colab_type": "code",
        "colab": {},
        "outputId": "96010f84-6fb5-489f-f090-ddcbe1d45817"
      },
      "source": [
        "list1"
      ],
      "execution_count": 0,
      "outputs": [
        {
          "output_type": "execute_result",
          "data": {
            "text/plain": [
              "[1, 2, 3, 5, 'Hello Tune', True]"
            ]
          },
          "metadata": {
            "tags": []
          },
          "execution_count": 118
        }
      ]
    },
    {
      "cell_type": "code",
      "metadata": {
        "id": "Ne_95v0U8yif",
        "colab_type": "code",
        "colab": {},
        "outputId": "4d5240ca-3167-4a68-987b-b6bd3600d4bb"
      },
      "source": [
        "list1"
      ],
      "execution_count": 0,
      "outputs": [
        {
          "output_type": "execute_result",
          "data": {
            "text/plain": [
              "[2, 3, 5, 'Hello Tune']"
            ]
          },
          "metadata": {
            "tags": []
          },
          "execution_count": 125
        }
      ]
    },
    {
      "cell_type": "code",
      "metadata": {
        "id": "kp85A29C8yii",
        "colab_type": "code",
        "colab": {}
      },
      "source": [
        "list1.remove(5)"
      ],
      "execution_count": 0,
      "outputs": []
    },
    {
      "cell_type": "code",
      "metadata": {
        "id": "ZadV67DC8yin",
        "colab_type": "code",
        "colab": {},
        "outputId": "0fd9b028-a9a7-41ca-f8f1-bcdb698ee53c"
      },
      "source": [
        "list1"
      ],
      "execution_count": 0,
      "outputs": [
        {
          "output_type": "execute_result",
          "data": {
            "text/plain": [
              "[2, 3, 'Hello Tune']"
            ]
          },
          "metadata": {
            "tags": []
          },
          "execution_count": 127
        }
      ]
    },
    {
      "cell_type": "code",
      "metadata": {
        "id": "Go42W0o48yiv",
        "colab_type": "code",
        "colab": {}
      },
      "source": [
        "del list1[2] "
      ],
      "execution_count": 0,
      "outputs": []
    },
    {
      "cell_type": "code",
      "metadata": {
        "id": "zwCJWnwb8yi3",
        "colab_type": "code",
        "colab": {},
        "outputId": "31314214-98a5-4c99-a979-fee13516fe3e"
      },
      "source": [
        "list1"
      ],
      "execution_count": 0,
      "outputs": [
        {
          "output_type": "execute_result",
          "data": {
            "text/plain": [
              "[2, 3]"
            ]
          },
          "metadata": {
            "tags": []
          },
          "execution_count": 130
        }
      ]
    },
    {
      "cell_type": "code",
      "metadata": {
        "id": "tiCWqVzz8yi8",
        "colab_type": "code",
        "colab": {}
      },
      "source": [
        "#remove delete items on the basis of name/value not location\n",
        "# pop location `` del"
      ],
      "execution_count": 0,
      "outputs": []
    },
    {
      "cell_type": "code",
      "metadata": {
        "id": "9yOcxJTQ8yjB",
        "colab_type": "code",
        "colab": {}
      },
      "source": [
        "list1.append(\"ML\") #Adding element in the end"
      ],
      "execution_count": 0,
      "outputs": []
    },
    {
      "cell_type": "code",
      "metadata": {
        "id": "LBgr0cCf8yjG",
        "colab_type": "code",
        "colab": {},
        "outputId": "67bfac05-78f0-4830-9b52-d57d5a3920fb"
      },
      "source": [
        "list1"
      ],
      "execution_count": 0,
      "outputs": [
        {
          "output_type": "execute_result",
          "data": {
            "text/plain": [
              "[2, 3, 'ML', 'ML', ['DS', 'NLP'], 'SL', 'PDS', 'PGP', 'ML']"
            ]
          },
          "metadata": {
            "tags": []
          },
          "execution_count": 142
        }
      ]
    },
    {
      "cell_type": "code",
      "metadata": {
        "id": "X-6qoWdt8yjN",
        "colab_type": "code",
        "colab": {}
      },
      "source": [
        "list1.append([\"DS\", \"NLP\"]) #one element"
      ],
      "execution_count": 0,
      "outputs": []
    },
    {
      "cell_type": "code",
      "metadata": {
        "id": "4WUYMdV48yjS",
        "colab_type": "code",
        "colab": {},
        "outputId": "22354950-9ff3-4f31-bec8-d334db605635"
      },
      "source": [
        "list1[4]"
      ],
      "execution_count": 0,
      "outputs": [
        {
          "output_type": "execute_result",
          "data": {
            "text/plain": [
              "['DS', 'NLP']"
            ]
          },
          "metadata": {
            "tags": []
          },
          "execution_count": 137
        }
      ]
    },
    {
      "cell_type": "code",
      "metadata": {
        "id": "ozK8XhRs8yjY",
        "colab_type": "code",
        "colab": {}
      },
      "source": [
        "list1.extend([\"SL\", \"PDS\", \"PGP\"]) # to add multiple elements"
      ],
      "execution_count": 0,
      "outputs": []
    },
    {
      "cell_type": "code",
      "metadata": {
        "id": "unN6F68y8yje",
        "colab_type": "code",
        "colab": {},
        "outputId": "9c8e9998-288b-48f0-90a0-08caa0e6011c"
      },
      "source": [
        "list1"
      ],
      "execution_count": 0,
      "outputs": [
        {
          "output_type": "execute_result",
          "data": {
            "text/plain": [
              "[2, 3, 'ML', 'ML', ['DS', 'NLP'], 'SL', 'PDS', 'PGP']"
            ]
          },
          "metadata": {
            "tags": []
          },
          "execution_count": 140
        }
      ]
    },
    {
      "cell_type": "code",
      "metadata": {
        "id": "w7nkEyrd8yjl",
        "colab_type": "code",
        "colab": {},
        "outputId": "8118750c-95fc-4be0-cd0f-cb2f08042404"
      },
      "source": [
        "list1"
      ],
      "execution_count": 0,
      "outputs": [
        {
          "output_type": "execute_result",
          "data": {
            "text/plain": [
              "[2, 3, 'ML', 'ML', ['DS', 'NLP'], 'SL', 'PDS', 'PGP', 'ML']"
            ]
          },
          "metadata": {
            "tags": []
          },
          "execution_count": 143
        }
      ]
    },
    {
      "cell_type": "code",
      "metadata": {
        "id": "pfo9aOst8yjr",
        "colab_type": "code",
        "colab": {}
      },
      "source": [
        "list1.insert(2, \"Ind\")"
      ],
      "execution_count": 0,
      "outputs": []
    },
    {
      "cell_type": "code",
      "metadata": {
        "id": "wzupRWPV8yjx",
        "colab_type": "code",
        "colab": {},
        "outputId": "3d5eaeb4-5b83-4ab9-be74-db587b0eb8ec"
      },
      "source": [
        "list1"
      ],
      "execution_count": 0,
      "outputs": [
        {
          "output_type": "execute_result",
          "data": {
            "text/plain": [
              "[2, 'Pyspark', 'Ind', 3, 'ML', 'ML', ['DS', 'NLP'], 'SL', 'PDS', 'PGP', 'ML']"
            ]
          },
          "metadata": {
            "tags": []
          },
          "execution_count": 149
        }
      ]
    },
    {
      "cell_type": "code",
      "metadata": {
        "id": "w5E98qqP8yj1",
        "colab_type": "code",
        "colab": {}
      },
      "source": [
        "list6 = [67,87,45,76]\n"
      ],
      "execution_count": 0,
      "outputs": []
    },
    {
      "cell_type": "code",
      "metadata": {
        "id": "WDMpwWJ98yj4",
        "colab_type": "code",
        "colab": {},
        "outputId": "54804453-20b7-4fa7-8e59-7f07299813ba"
      },
      "source": [
        "sorted(list6)"
      ],
      "execution_count": 0,
      "outputs": [
        {
          "output_type": "execute_result",
          "data": {
            "text/plain": [
              "[45, 67, 76, 87]"
            ]
          },
          "metadata": {
            "tags": []
          },
          "execution_count": 151
        }
      ]
    },
    {
      "cell_type": "code",
      "metadata": {
        "id": "HpDVMZUp8yj9",
        "colab_type": "code",
        "colab": {}
      },
      "source": [
        "list7 = ['g', 'A','m', 'l', 't']"
      ],
      "execution_count": 0,
      "outputs": []
    },
    {
      "cell_type": "code",
      "metadata": {
        "id": "fTuCjtFl8ykB",
        "colab_type": "code",
        "colab": {},
        "outputId": "618e15e8-57c4-4b5f-e006-86e64ba872ab"
      },
      "source": [
        "sorted(list7)"
      ],
      "execution_count": 0,
      "outputs": [
        {
          "output_type": "execute_result",
          "data": {
            "text/plain": [
              "['A', 'g', 'l', 'm', 't']"
            ]
          },
          "metadata": {
            "tags": []
          },
          "execution_count": 155
        }
      ]
    },
    {
      "cell_type": "code",
      "metadata": {
        "id": "IvzWKJ2E8ykZ",
        "colab_type": "code",
        "colab": {},
        "outputId": "76644647-aeed-4d9d-e0a8-40a49f30b2e0"
      },
      "source": [
        "del tup1[0]"
      ],
      "execution_count": 0,
      "outputs": [
        {
          "output_type": "error",
          "ename": "TypeError",
          "evalue": "'tuple' object doesn't support item deletion",
          "traceback": [
            "\u001b[0;31m---------------------------------------------------------------------------\u001b[0m",
            "\u001b[0;31mTypeError\u001b[0m                                 Traceback (most recent call last)",
            "\u001b[0;32m<ipython-input-156-5f962e1876e1>\u001b[0m in \u001b[0;36m<module>\u001b[0;34m\u001b[0m\n\u001b[0;32m----> 1\u001b[0;31m \u001b[0;32mdel\u001b[0m \u001b[0mtup1\u001b[0m\u001b[0;34m[\u001b[0m\u001b[0;36m0\u001b[0m\u001b[0;34m]\u001b[0m\u001b[0;34m\u001b[0m\u001b[0;34m\u001b[0m\u001b[0m\n\u001b[0m",
            "\u001b[0;31mTypeError\u001b[0m: 'tuple' object doesn't support item deletion"
          ]
        }
      ]
    },
    {
      "cell_type": "code",
      "metadata": {
        "id": "Hlhf_M6m8yke",
        "colab_type": "code",
        "colab": {},
        "outputId": "6b6cf6b1-f1ee-4edd-ff24-d9feab1f8e21"
      },
      "source": [
        "tup1.pop(3)"
      ],
      "execution_count": 0,
      "outputs": [
        {
          "output_type": "error",
          "ename": "AttributeError",
          "evalue": "'tuple' object has no attribute 'pop'",
          "traceback": [
            "\u001b[0;31m---------------------------------------------------------------------------\u001b[0m",
            "\u001b[0;31mAttributeError\u001b[0m                            Traceback (most recent call last)",
            "\u001b[0;32m<ipython-input-157-df4bb9548f03>\u001b[0m in \u001b[0;36m<module>\u001b[0;34m\u001b[0m\n\u001b[0;32m----> 1\u001b[0;31m \u001b[0mtup1\u001b[0m\u001b[0;34m.\u001b[0m\u001b[0mpop\u001b[0m\u001b[0;34m(\u001b[0m\u001b[0;36m3\u001b[0m\u001b[0;34m)\u001b[0m\u001b[0;34m\u001b[0m\u001b[0;34m\u001b[0m\u001b[0m\n\u001b[0m",
            "\u001b[0;31mAttributeError\u001b[0m: 'tuple' object has no attribute 'pop'"
          ]
        }
      ]
    },
    {
      "cell_type": "code",
      "metadata": {
        "id": "pvekvf9l8yki",
        "colab_type": "code",
        "colab": {},
        "outputId": "f4bdd11d-6f2e-472e-df33-03c4d12d63dd"
      },
      "source": [
        "tup1.append(\"ML\")"
      ],
      "execution_count": 0,
      "outputs": [
        {
          "output_type": "error",
          "ename": "AttributeError",
          "evalue": "'tuple' object has no attribute 'append'",
          "traceback": [
            "\u001b[0;31m---------------------------------------------------------------------------\u001b[0m",
            "\u001b[0;31mAttributeError\u001b[0m                            Traceback (most recent call last)",
            "\u001b[0;32m<ipython-input-158-5825c499cb57>\u001b[0m in \u001b[0;36m<module>\u001b[0;34m\u001b[0m\n\u001b[0;32m----> 1\u001b[0;31m \u001b[0mtup1\u001b[0m\u001b[0;34m.\u001b[0m\u001b[0mappend\u001b[0m\u001b[0;34m(\u001b[0m\u001b[0;34m\"ML\"\u001b[0m\u001b[0;34m)\u001b[0m\u001b[0;34m\u001b[0m\u001b[0;34m\u001b[0m\u001b[0m\n\u001b[0m",
            "\u001b[0;31mAttributeError\u001b[0m: 'tuple' object has no attribute 'append'"
          ]
        }
      ]
    },
    {
      "cell_type": "code",
      "metadata": {
        "id": "8gTY3CL18yko",
        "colab_type": "code",
        "colab": {},
        "outputId": "8082c9d6-2e5b-4654-cc1a-5910ad650b08"
      },
      "source": [
        "tup1"
      ],
      "execution_count": 0,
      "outputs": [
        {
          "output_type": "execute_result",
          "data": {
            "text/plain": [
              "(1, 2, 3, 4, 5, 'Python')"
            ]
          },
          "metadata": {
            "tags": []
          },
          "execution_count": 160
        }
      ]
    },
    {
      "cell_type": "code",
      "metadata": {
        "id": "56tzvG9d8ykz",
        "colab_type": "code",
        "colab": {}
      },
      "source": [
        "tup2 = (5,7,8,9)"
      ],
      "execution_count": 0,
      "outputs": []
    },
    {
      "cell_type": "code",
      "metadata": {
        "id": "33SSvv9M8yk2",
        "colab_type": "code",
        "colab": {}
      },
      "source": [
        "tup4 = tup1+tup2"
      ],
      "execution_count": 0,
      "outputs": []
    },
    {
      "cell_type": "code",
      "metadata": {
        "id": "tD683jBc8yk5",
        "colab_type": "code",
        "colab": {},
        "outputId": "ad60cc73-6b5e-4884-b725-4ef5a8038c13"
      },
      "source": [
        "len(tup1)"
      ],
      "execution_count": 0,
      "outputs": [
        {
          "output_type": "execute_result",
          "data": {
            "text/plain": [
              "6"
            ]
          },
          "metadata": {
            "tags": []
          },
          "execution_count": 163
        }
      ]
    },
    {
      "cell_type": "code",
      "metadata": {
        "id": "o6bJljdu8yk8",
        "colab_type": "code",
        "colab": {},
        "outputId": "487d3d9d-346e-4690-942b-7290f756dc96"
      },
      "source": [
        "tup4"
      ],
      "execution_count": 0,
      "outputs": [
        {
          "output_type": "execute_result",
          "data": {
            "text/plain": [
              "(1, 2, 3, 4, 5, 'Python', 5, 7, 8, 9)"
            ]
          },
          "metadata": {
            "tags": []
          },
          "execution_count": 165
        }
      ]
    },
    {
      "cell_type": "code",
      "metadata": {
        "id": "-UAAvPNk8ylB",
        "colab_type": "code",
        "colab": {}
      },
      "source": [
        "del tup1"
      ],
      "execution_count": 0,
      "outputs": []
    },
    {
      "cell_type": "code",
      "metadata": {
        "id": "6_p7h-1q8ylE",
        "colab_type": "code",
        "colab": {},
        "outputId": "2b8941b0-53e5-4f4a-831e-bceef9efa863"
      },
      "source": [
        "tup1"
      ],
      "execution_count": 0,
      "outputs": [
        {
          "output_type": "error",
          "ename": "NameError",
          "evalue": "name 'tup1' is not defined",
          "traceback": [
            "\u001b[0;31m---------------------------------------------------------------------------\u001b[0m",
            "\u001b[0;31mNameError\u001b[0m                                 Traceback (most recent call last)",
            "\u001b[0;32m<ipython-input-167-afd04ff38ac4>\u001b[0m in \u001b[0;36m<module>\u001b[0;34m\u001b[0m\n\u001b[0;32m----> 1\u001b[0;31m \u001b[0mtup1\u001b[0m\u001b[0;34m\u001b[0m\u001b[0;34m\u001b[0m\u001b[0m\n\u001b[0m",
            "\u001b[0;31mNameError\u001b[0m: name 'tup1' is not defined"
          ]
        }
      ]
    },
    {
      "cell_type": "code",
      "metadata": {
        "id": "jTpMd6ko8ylG",
        "colab_type": "code",
        "colab": {},
        "outputId": "589f362b-168a-4245-d9d3-d2f895566937"
      },
      "source": [
        "str1"
      ],
      "execution_count": 0,
      "outputs": [
        {
          "output_type": "execute_result",
          "data": {
            "text/plain": [
              "'Simplilearn'"
            ]
          },
          "metadata": {
            "tags": []
          },
          "execution_count": 168
        }
      ]
    },
    {
      "cell_type": "code",
      "metadata": {
        "id": "kbhrR-hQ8ylK",
        "colab_type": "code",
        "colab": {},
        "outputId": "13dd9a56-ba53-428e-d1dc-e8c1244b5ef7"
      },
      "source": [
        "str1.capitalize()"
      ],
      "execution_count": 0,
      "outputs": [
        {
          "output_type": "execute_result",
          "data": {
            "text/plain": [
              "'Simplilearn'"
            ]
          },
          "metadata": {
            "tags": []
          },
          "execution_count": 169
        }
      ]
    },
    {
      "cell_type": "code",
      "metadata": {
        "id": "L76XxMlC8ylO",
        "colab_type": "code",
        "colab": {},
        "outputId": "ab90a6ef-c58e-40f9-fb06-faca1e8bfc60"
      },
      "source": [
        "str1.count('i')"
      ],
      "execution_count": 0,
      "outputs": [
        {
          "output_type": "execute_result",
          "data": {
            "text/plain": [
              "2"
            ]
          },
          "metadata": {
            "tags": []
          },
          "execution_count": 171
        }
      ]
    },
    {
      "cell_type": "code",
      "metadata": {
        "id": "T4etucSb8ylR",
        "colab_type": "code",
        "colab": {},
        "outputId": "2d2d8bf4-c0a3-4f05-9335-32ece51cb3d3"
      },
      "source": [
        "str1.upper()"
      ],
      "execution_count": 0,
      "outputs": [
        {
          "output_type": "execute_result",
          "data": {
            "text/plain": [
              "'SIMPLILEARN'"
            ]
          },
          "metadata": {
            "tags": []
          },
          "execution_count": 172
        }
      ]
    },
    {
      "cell_type": "code",
      "metadata": {
        "id": "Bt4ymzLA8ylU",
        "colab_type": "code",
        "colab": {},
        "outputId": "ecc2a965-23e2-42ac-8a6f-51604cfbf2cf"
      },
      "source": [
        "str1.lower()"
      ],
      "execution_count": 0,
      "outputs": [
        {
          "output_type": "execute_result",
          "data": {
            "text/plain": [
              "'simplilearn'"
            ]
          },
          "metadata": {
            "tags": []
          },
          "execution_count": 173
        }
      ]
    },
    {
      "cell_type": "code",
      "metadata": {
        "id": "VrmF7TYt8ylX",
        "colab_type": "code",
        "colab": {},
        "outputId": "98084706-b344-4f6a-facb-7bf95ffb9080"
      },
      "source": [
        "max(str1)"
      ],
      "execution_count": 0,
      "outputs": [
        {
          "output_type": "execute_result",
          "data": {
            "text/plain": [
              "'r'"
            ]
          },
          "metadata": {
            "tags": []
          },
          "execution_count": 174
        }
      ]
    },
    {
      "cell_type": "code",
      "metadata": {
        "id": "iY85sagP8ylb",
        "colab_type": "code",
        "colab": {},
        "outputId": "b145b722-6efa-4187-d764-c4331129b254"
      },
      "source": [
        "min(str1)"
      ],
      "execution_count": 0,
      "outputs": [
        {
          "output_type": "execute_result",
          "data": {
            "text/plain": [
              "'S'"
            ]
          },
          "metadata": {
            "tags": []
          },
          "execution_count": 175
        }
      ]
    },
    {
      "cell_type": "code",
      "metadata": {
        "id": "xII-EfWe8yle",
        "colab_type": "code",
        "colab": {},
        "outputId": "4dde5d10-5fd6-4fbc-9155-248325629256"
      },
      "source": [
        "str1"
      ],
      "execution_count": 0,
      "outputs": [
        {
          "output_type": "execute_result",
          "data": {
            "text/plain": [
              "'Simplilearn'"
            ]
          },
          "metadata": {
            "tags": []
          },
          "execution_count": 176
        }
      ]
    },
    {
      "cell_type": "code",
      "metadata": {
        "id": "--SZz3Zv8yli",
        "colab_type": "code",
        "colab": {},
        "outputId": "1f61a906-c6d7-4958-c6fc-658ac743cd1e"
      },
      "source": [
        "max(str1)"
      ],
      "execution_count": 0,
      "outputs": [
        {
          "output_type": "execute_result",
          "data": {
            "text/plain": [
              "'r'"
            ]
          },
          "metadata": {
            "tags": []
          },
          "execution_count": 177
        }
      ]
    },
    {
      "cell_type": "code",
      "metadata": {
        "id": "4XUeEBH78ylm",
        "colab_type": "code",
        "colab": {}
      },
      "source": [
        "str2 = \"python\""
      ],
      "execution_count": 0,
      "outputs": []
    },
    {
      "cell_type": "code",
      "metadata": {
        "id": "U8GMnd7z8ylp",
        "colab_type": "code",
        "colab": {},
        "outputId": "10895184-b39b-474c-9375-747573d778c9"
      },
      "source": [
        "max(str2)"
      ],
      "execution_count": 0,
      "outputs": [
        {
          "output_type": "execute_result",
          "data": {
            "text/plain": [
              "'y'"
            ]
          },
          "metadata": {
            "tags": []
          },
          "execution_count": 179
        }
      ]
    },
    {
      "cell_type": "code",
      "metadata": {
        "id": "BohbLgXe8yls",
        "colab_type": "code",
        "colab": {},
        "outputId": "bb0a3bfd-d5bd-48e8-dad7-641b9d2a80e6"
      },
      "source": [
        "min(str2)"
      ],
      "execution_count": 0,
      "outputs": [
        {
          "output_type": "execute_result",
          "data": {
            "text/plain": [
              "'h'"
            ]
          },
          "metadata": {
            "tags": []
          },
          "execution_count": 180
        }
      ]
    },
    {
      "cell_type": "code",
      "metadata": {
        "id": "tFpnKGFL8ylv",
        "colab_type": "code",
        "colab": {},
        "outputId": "cc6c9e0a-4ed3-4c08-aab5-ea11f2e0c66b"
      },
      "source": [
        "str2.replace('n', 'nacious')"
      ],
      "execution_count": 0,
      "outputs": [
        {
          "output_type": "execute_result",
          "data": {
            "text/plain": [
              "'pythonacious'"
            ]
          },
          "metadata": {
            "tags": []
          },
          "execution_count": 181
        }
      ]
    },
    {
      "cell_type": "code",
      "metadata": {
        "id": "cRng0DNL8yl0",
        "colab_type": "code",
        "colab": {},
        "outputId": "dea5286d-2847-4fbb-db1e-bbfc7f7dbbaf"
      },
      "source": [
        "str2.index('o')"
      ],
      "execution_count": 0,
      "outputs": [
        {
          "output_type": "execute_result",
          "data": {
            "text/plain": [
              "4"
            ]
          },
          "metadata": {
            "tags": []
          },
          "execution_count": 182
        }
      ]
    },
    {
      "cell_type": "code",
      "metadata": {
        "id": "XNNZcR3u8yl3",
        "colab_type": "code",
        "colab": {}
      },
      "source": [
        "#conditional statements"
      ],
      "execution_count": 0,
      "outputs": []
    },
    {
      "cell_type": "code",
      "metadata": {
        "id": "UaCFxB-c8yl5",
        "colab_type": "code",
        "colab": {}
      },
      "source": [
        "#if, elif, else"
      ],
      "execution_count": 0,
      "outputs": []
    },
    {
      "cell_type": "code",
      "metadata": {
        "id": "Q9e_73Y18yl8",
        "colab_type": "code",
        "colab": {}
      },
      "source": [
        "Name = input(\"Enter your name\")\n",
        "Age = int(input(\"Enter your age\"))\n",
        "if Age>18:\n",
        "    print(\"Enjoy voting\")\n",
        "elif Age==18:\n",
        "    print(\"Up to you\")\n",
        "else:\n",
        "    print(\"Stay home\")"
      ],
      "execution_count": 0,
      "outputs": []
    },
    {
      "cell_type": "code",
      "metadata": {
        "id": "U6Qg5l9M8yl_",
        "colab_type": "code",
        "colab": {}
      },
      "source": [
        "#Loops and Loop Control Statements"
      ],
      "execution_count": 0,
      "outputs": []
    },
    {
      "cell_type": "code",
      "metadata": {
        "id": "itYNTzOw8ymD",
        "colab_type": "code",
        "colab": {}
      },
      "source": [
        "#1. For, While, \n",
        "#2. break, continue and pass"
      ],
      "execution_count": 0,
      "outputs": []
    },
    {
      "cell_type": "code",
      "metadata": {
        "id": "rBuP1pyO8ymH",
        "colab_type": "code",
        "colab": {}
      },
      "source": [
        "list1 = [1,2,3,4,5]"
      ],
      "execution_count": 0,
      "outputs": []
    },
    {
      "cell_type": "code",
      "metadata": {
        "id": "31uPijMY8ymN",
        "colab_type": "code",
        "colab": {},
        "outputId": "2149388d-41d9-40d7-8b90-4b71842f5dd5"
      },
      "source": [
        "for e in list1:\n",
        "    print(e**2)\n",
        "    "
      ],
      "execution_count": 0,
      "outputs": [
        {
          "output_type": "stream",
          "text": [
            "1\n",
            "4\n",
            "9\n",
            "16\n",
            "25\n"
          ],
          "name": "stdout"
        }
      ]
    },
    {
      "cell_type": "code",
      "metadata": {
        "id": "9wdvEo-m8ymR",
        "colab_type": "code",
        "colab": {},
        "outputId": "84948d87-987f-4b74-945b-2885dc9509ce"
      },
      "source": [
        "for e in list1:\n",
        "    print(e)\n",
        "    if e==3:\n",
        "        break"
      ],
      "execution_count": 0,
      "outputs": [
        {
          "output_type": "stream",
          "text": [
            "1\n",
            "2\n",
            "3\n"
          ],
          "name": "stdout"
        }
      ]
    },
    {
      "cell_type": "code",
      "metadata": {
        "id": "k8tJp4zk8ymV",
        "colab_type": "code",
        "colab": {},
        "outputId": "9e6f59dc-63b4-4bef-aec9-6f216eb3a1b4"
      },
      "source": [
        "for e in list1:\n",
        "    if e==3:\n",
        "        continue\n",
        "    print(e)"
      ],
      "execution_count": 0,
      "outputs": [
        {
          "output_type": "stream",
          "text": [
            "1\n",
            "2\n",
            "4\n",
            "5\n"
          ],
          "name": "stdout"
        }
      ]
    },
    {
      "cell_type": "code",
      "metadata": {
        "id": "IbO3eKDg8ymZ",
        "colab_type": "code",
        "colab": {}
      },
      "source": [
        "list2 = [2,4,6,8,10]"
      ],
      "execution_count": 0,
      "outputs": []
    },
    {
      "cell_type": "code",
      "metadata": {
        "id": "oZnjmj6U8yme",
        "colab_type": "code",
        "colab": {},
        "outputId": "3d47e060-44b1-4221-e57a-fb1d4817be4f"
      },
      "source": [
        "for x in list1:\n",
        "    print(x)\n",
        "for y in list2:\n",
        "        print(y)"
      ],
      "execution_count": 0,
      "outputs": [
        {
          "output_type": "stream",
          "text": [
            "1\n",
            "2\n",
            "3\n",
            "4\n",
            "5\n",
            "2\n",
            "4\n",
            "6\n",
            "8\n",
            "10\n"
          ],
          "name": "stdout"
        }
      ]
    },
    {
      "cell_type": "code",
      "metadata": {
        "id": "WBZ5NP-58ymn",
        "colab_type": "code",
        "colab": {},
        "outputId": "a0d85203-a0ac-4a7a-a784-ce0e20a85d88"
      },
      "source": [
        "for e in list1:\n",
        "    print(list1.index(e))"
      ],
      "execution_count": 0,
      "outputs": [
        {
          "output_type": "stream",
          "text": [
            "0\n",
            "1\n",
            "2\n",
            "3\n",
            "4\n"
          ],
          "name": "stdout"
        }
      ]
    },
    {
      "cell_type": "code",
      "metadata": {
        "id": "XamDnKaY8ymu",
        "colab_type": "code",
        "colab": {},
        "outputId": "d4b81755-03fb-49f6-d089-9369ee2dee0a"
      },
      "source": [
        "list2"
      ],
      "execution_count": 0,
      "outputs": [
        {
          "output_type": "execute_result",
          "data": {
            "text/plain": [
              "[2, 4, 6, 8, 10]"
            ]
          },
          "metadata": {
            "tags": []
          },
          "execution_count": 22
        }
      ]
    },
    {
      "cell_type": "code",
      "metadata": {
        "id": "KazLjG6z8ymx",
        "colab_type": "code",
        "colab": {},
        "outputId": "6fbf40f5-d269-404d-b7b3-2eb40c7e2ff6"
      },
      "source": [
        "list2.index(4)"
      ],
      "execution_count": 0,
      "outputs": [
        {
          "output_type": "execute_result",
          "data": {
            "text/plain": [
              "1"
            ]
          },
          "metadata": {
            "tags": []
          },
          "execution_count": 24
        }
      ]
    },
    {
      "cell_type": "code",
      "metadata": {
        "id": "dqAzOv1G8ymz",
        "colab_type": "code",
        "colab": {},
        "outputId": "cbe927ac-0bf0-481a-e6ef-15f2957aa804"
      },
      "source": [
        "#while loop - infinite - conditional \n",
        "a = 0\n",
        "while a<100:\n",
        "    print(a)\n",
        "    a+=5\n"
      ],
      "execution_count": 0,
      "outputs": [
        {
          "output_type": "stream",
          "text": [
            "0\n",
            "5\n",
            "10\n",
            "15\n",
            "20\n",
            "25\n",
            "30\n",
            "35\n",
            "40\n",
            "45\n",
            "50\n",
            "55\n",
            "60\n",
            "65\n",
            "70\n",
            "75\n",
            "80\n",
            "85\n",
            "90\n",
            "95\n"
          ],
          "name": "stdout"
        }
      ]
    },
    {
      "cell_type": "code",
      "metadata": {
        "id": "T2kXlwaL8ym5",
        "colab_type": "code",
        "colab": {},
        "outputId": "a8cf9740-a600-4bc0-8025-fc4f0297fc54"
      },
      "source": [
        "a = 0\n",
        "while a<10:\n",
        "    print(a)\n",
        "    if a==3:\n",
        "        break\n",
        "    a+=1"
      ],
      "execution_count": 0,
      "outputs": [
        {
          "output_type": "stream",
          "text": [
            "0\n",
            "1\n",
            "2\n",
            "3\n"
          ],
          "name": "stdout"
        }
      ]
    },
    {
      "cell_type": "code",
      "metadata": {
        "id": "ZPZYtJyn8ym7",
        "colab_type": "code",
        "colab": {},
        "outputId": "143b1b9f-3e5a-4548-bdfc-64806e493322"
      },
      "source": [
        "a=5\n",
        "while a<=50:\n",
        "    a+=1\n",
        "    if a==25:\n",
        "        continue\n",
        "    print(a)"
      ],
      "execution_count": 0,
      "outputs": [
        {
          "output_type": "stream",
          "text": [
            "6\n",
            "7\n",
            "8\n",
            "9\n",
            "10\n",
            "11\n",
            "12\n",
            "13\n",
            "14\n",
            "15\n",
            "16\n",
            "17\n",
            "18\n",
            "19\n",
            "20\n",
            "21\n",
            "22\n",
            "23\n",
            "24\n",
            "26\n",
            "27\n",
            "28\n",
            "29\n",
            "30\n",
            "31\n",
            "32\n",
            "33\n",
            "34\n",
            "35\n",
            "36\n",
            "37\n",
            "38\n",
            "39\n",
            "40\n",
            "41\n",
            "42\n",
            "43\n",
            "44\n",
            "45\n",
            "46\n",
            "47\n",
            "48\n",
            "49\n",
            "50\n",
            "51\n"
          ],
          "name": "stdout"
        }
      ]
    },
    {
      "cell_type": "code",
      "metadata": {
        "id": "LYUp1hdV8ym_",
        "colab_type": "code",
        "colab": {}
      },
      "source": [
        "#Functions - User defined, built in, lambda"
      ],
      "execution_count": 0,
      "outputs": []
    },
    {
      "cell_type": "code",
      "metadata": {
        "id": "bBjAQ6mE8ynB",
        "colab_type": "code",
        "colab": {}
      },
      "source": [
        "#Anonymous - one expression at one time"
      ],
      "execution_count": 0,
      "outputs": []
    },
    {
      "cell_type": "code",
      "metadata": {
        "id": "ukCAzUVw8ynF",
        "colab_type": "code",
        "colab": {}
      },
      "source": [
        "Ravi = lambda x: x**2"
      ],
      "execution_count": 0,
      "outputs": []
    },
    {
      "cell_type": "code",
      "metadata": {
        "id": "GL4Tuc1A8ynJ",
        "colab_type": "code",
        "colab": {},
        "outputId": "80b4c0c2-4eed-47a5-82b4-6529c481c337"
      },
      "source": [
        "Ravi(5)"
      ],
      "execution_count": 0,
      "outputs": [
        {
          "output_type": "execute_result",
          "data": {
            "text/plain": [
              "25"
            ]
          },
          "metadata": {
            "tags": []
          },
          "execution_count": 34
        }
      ]
    },
    {
      "cell_type": "code",
      "metadata": {
        "id": "LPilJ8PB8ynL",
        "colab_type": "code",
        "colab": {}
      },
      "source": [
        "#User Defined Functions \n",
        "#define\n",
        "#arguments\n",
        "#return statement\n",
        "#Call "
      ],
      "execution_count": 0,
      "outputs": []
    },
    {
      "cell_type": "code",
      "metadata": {
        "id": "asztUnzm8ynO",
        "colab_type": "code",
        "colab": {},
        "outputId": "93f3bedc-b061-4cab-b9b2-29ab3db5266b"
      },
      "source": [
        "def Ravi(a,b):\n",
        "    return a+b\n",
        "a = int(input(\"Enter Num1\"))\n",
        "b = int(input(\"Enter Num2\"))\n",
        "\n",
        "print(Ravi(a,b))\n",
        "\n",
        "    \n",
        "    \n",
        "    "
      ],
      "execution_count": 0,
      "outputs": [
        {
          "output_type": "stream",
          "text": [
            "Enter Num1 5\n",
            "Enter Num2 5\n"
          ],
          "name": "stdin"
        },
        {
          "output_type": "stream",
          "text": [
            "10\n"
          ],
          "name": "stdout"
        }
      ]
    },
    {
      "cell_type": "code",
      "metadata": {
        "id": "khpeeqy48ynS",
        "colab_type": "code",
        "colab": {},
        "outputId": "853aa2c7-0b3c-454b-be28-9576f9e4a1b7"
      },
      "source": [
        "Ravi(3,4)"
      ],
      "execution_count": 0,
      "outputs": [
        {
          "output_type": "execute_result",
          "data": {
            "text/plain": [
              "7"
            ]
          },
          "metadata": {
            "tags": []
          },
          "execution_count": 37
        }
      ]
    },
    {
      "cell_type": "code",
      "metadata": {
        "id": "EOWe2TVC8yna",
        "colab_type": "code",
        "colab": {}
      },
      "source": [
        "#Operators\n",
        "#Arithmetic\n",
        "#Assignment\n",
        "#Comparison\n",
        "#Logical - \n",
        "#Bitwise\n",
        "#Membership\n"
      ],
      "execution_count": 0,
      "outputs": []
    },
    {
      "cell_type": "code",
      "metadata": {
        "id": "q6CKlAig8yne",
        "colab_type": "code",
        "colab": {}
      },
      "source": [
        "#Symbol/chr = to have operations on operands = a+b"
      ],
      "execution_count": 0,
      "outputs": []
    },
    {
      "cell_type": "code",
      "metadata": {
        "id": "3CDdDOVN8ynh",
        "colab_type": "code",
        "colab": {}
      },
      "source": [
        "a = 450\n",
        "b = 650"
      ],
      "execution_count": 0,
      "outputs": []
    },
    {
      "cell_type": "code",
      "metadata": {
        "id": "-wxcbIAp8ynj",
        "colab_type": "code",
        "colab": {},
        "outputId": "f5d904c4-ec8f-4408-a77f-03e0189637ab"
      },
      "source": [
        "a+b\n",
        "a-b\n",
        "a/b\n",
        "a//b\n",
        "a%b\n"
      ],
      "execution_count": 0,
      "outputs": [
        {
          "output_type": "execute_result",
          "data": {
            "text/plain": [
              "450"
            ]
          },
          "metadata": {
            "tags": []
          },
          "execution_count": 55
        }
      ]
    },
    {
      "cell_type": "code",
      "metadata": {
        "id": "MjXOKLlo8ynn",
        "colab_type": "code",
        "colab": {},
        "outputId": "0a402d1e-b6eb-4b26-e365-1d632700e95e"
      },
      "source": [
        "a"
      ],
      "execution_count": 0,
      "outputs": [
        {
          "output_type": "execute_result",
          "data": {
            "text/plain": [
              "450"
            ]
          },
          "metadata": {
            "tags": []
          },
          "execution_count": 56
        }
      ]
    },
    {
      "cell_type": "code",
      "metadata": {
        "id": "YVsFruXm8ynq",
        "colab_type": "code",
        "colab": {},
        "outputId": "b9a7028f-381b-48c5-8f78-6e615124d9b4"
      },
      "source": [
        "b"
      ],
      "execution_count": 0,
      "outputs": [
        {
          "output_type": "execute_result",
          "data": {
            "text/plain": [
              "650"
            ]
          },
          "metadata": {
            "tags": []
          },
          "execution_count": 57
        }
      ]
    },
    {
      "cell_type": "code",
      "metadata": {
        "id": "1LonyPp38ynt",
        "colab_type": "code",
        "colab": {},
        "outputId": "7606da5c-e1dc-4a73-a87d-aa4289d3e425"
      },
      "source": [
        "a/b"
      ],
      "execution_count": 0,
      "outputs": [
        {
          "output_type": "execute_result",
          "data": {
            "text/plain": [
              "0.6923076923076923"
            ]
          },
          "metadata": {
            "tags": []
          },
          "execution_count": 59
        }
      ]
    },
    {
      "cell_type": "code",
      "metadata": {
        "id": "Y17yyqTn8ynw",
        "colab_type": "code",
        "colab": {},
        "outputId": "b656a478-2045-488b-f1c0-1e04ca12576f"
      },
      "source": [
        "a//b"
      ],
      "execution_count": 0,
      "outputs": [
        {
          "output_type": "execute_result",
          "data": {
            "text/plain": [
              "0"
            ]
          },
          "metadata": {
            "tags": []
          },
          "execution_count": 60
        }
      ]
    },
    {
      "cell_type": "code",
      "metadata": {
        "id": "hm6_JWxA8ynz",
        "colab_type": "code",
        "colab": {},
        "outputId": "b1387a9b-18a1-4ea2-e407-755a45db232e"
      },
      "source": [
        "a%b"
      ],
      "execution_count": 0,
      "outputs": [
        {
          "output_type": "execute_result",
          "data": {
            "text/plain": [
              "450"
            ]
          },
          "metadata": {
            "tags": []
          },
          "execution_count": 61
        }
      ]
    },
    {
      "cell_type": "code",
      "metadata": {
        "id": "pFPQFIsF8yn1",
        "colab_type": "code",
        "colab": {}
      },
      "source": [
        "a = 10"
      ],
      "execution_count": 0,
      "outputs": []
    },
    {
      "cell_type": "code",
      "metadata": {
        "id": "eYS0QToB8yn7",
        "colab_type": "code",
        "colab": {}
      },
      "source": [
        "b = 3"
      ],
      "execution_count": 0,
      "outputs": []
    },
    {
      "cell_type": "code",
      "metadata": {
        "id": "bpN-7pJE8yn-",
        "colab_type": "code",
        "colab": {},
        "outputId": "2a1e171e-08fd-402b-b97c-99b303bb0af7"
      },
      "source": [
        "a%b"
      ],
      "execution_count": 0,
      "outputs": [
        {
          "output_type": "execute_result",
          "data": {
            "text/plain": [
              "1"
            ]
          },
          "metadata": {
            "tags": []
          },
          "execution_count": 66
        }
      ]
    },
    {
      "cell_type": "code",
      "metadata": {
        "id": "KKVECpGz8yoB",
        "colab_type": "code",
        "colab": {},
        "outputId": "bccfbf58-1f7e-4c87-ce81-a9b212a74eed"
      },
      "source": [
        "a*b"
      ],
      "execution_count": 0,
      "outputs": [
        {
          "output_type": "execute_result",
          "data": {
            "text/plain": [
              "30"
            ]
          },
          "metadata": {
            "tags": []
          },
          "execution_count": 67
        }
      ]
    },
    {
      "cell_type": "code",
      "metadata": {
        "id": "lVaz9yPN8yob",
        "colab_type": "code",
        "colab": {},
        "outputId": "ba069033-5c64-45bf-ae9f-0075ff53613d"
      },
      "source": [
        "a**b"
      ],
      "execution_count": 0,
      "outputs": [
        {
          "output_type": "execute_result",
          "data": {
            "text/plain": [
              "1000"
            ]
          },
          "metadata": {
            "tags": []
          },
          "execution_count": 68
        }
      ]
    },
    {
      "cell_type": "code",
      "metadata": {
        "id": "nzxsiLll8yoe",
        "colab_type": "code",
        "colab": {}
      },
      "source": [
        "#Assignment\n",
        "a = 5\n",
        "\n",
        "\n"
      ],
      "execution_count": 0,
      "outputs": []
    },
    {
      "cell_type": "code",
      "metadata": {
        "id": "XH0lD4wj8yoh",
        "colab_type": "code",
        "colab": {},
        "outputId": "10217431-b8ba-4c4b-8723-66174eb3350f"
      },
      "source": [
        "a"
      ],
      "execution_count": 0,
      "outputs": [
        {
          "output_type": "execute_result",
          "data": {
            "text/plain": [
              "5"
            ]
          },
          "metadata": {
            "tags": []
          },
          "execution_count": 70
        }
      ]
    },
    {
      "cell_type": "code",
      "metadata": {
        "id": "cE_1LQPU8yol",
        "colab_type": "code",
        "colab": {}
      },
      "source": [
        "b = 10"
      ],
      "execution_count": 0,
      "outputs": []
    },
    {
      "cell_type": "code",
      "metadata": {
        "id": "MKpRcB4D8yon",
        "colab_type": "code",
        "colab": {}
      },
      "source": [
        "a+=b #a, l+r"
      ],
      "execution_count": 0,
      "outputs": []
    },
    {
      "cell_type": "code",
      "metadata": {
        "id": "865AgQEZ8yot",
        "colab_type": "code",
        "colab": {},
        "outputId": "33561b7e-4f32-40c8-d6cd-82b9e70bcaab"
      },
      "source": [
        "a"
      ],
      "execution_count": 0,
      "outputs": [
        {
          "output_type": "execute_result",
          "data": {
            "text/plain": [
              "15"
            ]
          },
          "metadata": {
            "tags": []
          },
          "execution_count": 73
        }
      ]
    },
    {
      "cell_type": "code",
      "metadata": {
        "id": "fwegUjF98yox",
        "colab_type": "code",
        "colab": {}
      },
      "source": [
        "a-=b"
      ],
      "execution_count": 0,
      "outputs": []
    },
    {
      "cell_type": "code",
      "metadata": {
        "id": "ZBVOXGup8yoz",
        "colab_type": "code",
        "colab": {},
        "outputId": "70fa0adf-321a-49b7-931f-d3386eb507f5"
      },
      "source": [
        "a"
      ],
      "execution_count": 0,
      "outputs": [
        {
          "output_type": "execute_result",
          "data": {
            "text/plain": [
              "5"
            ]
          },
          "metadata": {
            "tags": []
          },
          "execution_count": 75
        }
      ]
    },
    {
      "cell_type": "code",
      "metadata": {
        "id": "MLQ8Qrym8yo2",
        "colab_type": "code",
        "colab": {}
      },
      "source": [
        "a*=b"
      ],
      "execution_count": 0,
      "outputs": []
    },
    {
      "cell_type": "code",
      "metadata": {
        "id": "zXAVbO088yo_",
        "colab_type": "code",
        "colab": {},
        "outputId": "17098de8-edcd-48b1-da84-752872a1fd17"
      },
      "source": [
        "a"
      ],
      "execution_count": 0,
      "outputs": [
        {
          "output_type": "execute_result",
          "data": {
            "text/plain": [
              "50"
            ]
          },
          "metadata": {
            "tags": []
          },
          "execution_count": 77
        }
      ]
    },
    {
      "cell_type": "code",
      "metadata": {
        "id": "VZi2RvIP8ypC",
        "colab_type": "code",
        "colab": {},
        "outputId": "54a1f1fc-fc3f-493c-cb1c-a19c4b426042"
      },
      "source": [
        "#Logical\n",
        "a = True\n",
        "b = False\n",
        "a and b # both are true"
      ],
      "execution_count": 0,
      "outputs": [
        {
          "output_type": "execute_result",
          "data": {
            "text/plain": [
              "False"
            ]
          },
          "metadata": {
            "tags": []
          },
          "execution_count": 78
        }
      ]
    },
    {
      "cell_type": "code",
      "metadata": {
        "id": "JXSAIPJ28ypE",
        "colab_type": "code",
        "colab": {},
        "outputId": "2399aba4-d922-4058-88da-2245916afae2"
      },
      "source": [
        "a or b # one is true"
      ],
      "execution_count": 0,
      "outputs": [
        {
          "output_type": "execute_result",
          "data": {
            "text/plain": [
              "True"
            ]
          },
          "metadata": {
            "tags": []
          },
          "execution_count": 79
        }
      ]
    },
    {
      "cell_type": "code",
      "metadata": {
        "id": "_JnNU_F68ypJ",
        "colab_type": "code",
        "colab": {},
        "outputId": "579bb66a-7d92-464c-ad8f-a2a947243b66"
      },
      "source": [
        "not a #a is false"
      ],
      "execution_count": 0,
      "outputs": [
        {
          "output_type": "execute_result",
          "data": {
            "text/plain": [
              "False"
            ]
          },
          "metadata": {
            "tags": []
          },
          "execution_count": 80
        }
      ]
    },
    {
      "cell_type": "code",
      "metadata": {
        "id": "GIl9A0-k8ypN",
        "colab_type": "code",
        "colab": {},
        "outputId": "7e98ec78-ddcd-44e8-a0de-0f6bf873e408"
      },
      "source": [
        "a&b"
      ],
      "execution_count": 0,
      "outputs": [
        {
          "output_type": "execute_result",
          "data": {
            "text/plain": [
              "False"
            ]
          },
          "metadata": {
            "tags": []
          },
          "execution_count": 81
        }
      ]
    },
    {
      "cell_type": "code",
      "metadata": {
        "id": "XaJ97UyO8ypR",
        "colab_type": "code",
        "colab": {},
        "outputId": "40d02993-fe49-43b0-d49f-17f664c214e3"
      },
      "source": [
        "a|b"
      ],
      "execution_count": 0,
      "outputs": [
        {
          "output_type": "execute_result",
          "data": {
            "text/plain": [
              "True"
            ]
          },
          "metadata": {
            "tags": []
          },
          "execution_count": 82
        }
      ]
    },
    {
      "cell_type": "code",
      "metadata": {
        "id": "Y-9dfxdC8ypU",
        "colab_type": "code",
        "colab": {},
        "outputId": "0974142f-cf33-4378-9d57-03c1f4a52058"
      },
      "source": [
        "# comparison\n",
        "a>b"
      ],
      "execution_count": 0,
      "outputs": [
        {
          "output_type": "execute_result",
          "data": {
            "text/plain": [
              "True"
            ]
          },
          "metadata": {
            "tags": []
          },
          "execution_count": 83
        }
      ]
    },
    {
      "cell_type": "code",
      "metadata": {
        "id": "odXNui-b8ypW",
        "colab_type": "code",
        "colab": {},
        "outputId": "3a7ca325-4538-4ddd-e7f5-f237504c78fd"
      },
      "source": [
        "a==b"
      ],
      "execution_count": 0,
      "outputs": [
        {
          "output_type": "execute_result",
          "data": {
            "text/plain": [
              "False"
            ]
          },
          "metadata": {
            "tags": []
          },
          "execution_count": 84
        }
      ]
    },
    {
      "cell_type": "code",
      "metadata": {
        "id": "_zFvJnPb8ypZ",
        "colab_type": "code",
        "colab": {},
        "outputId": "15787d69-8579-4601-f29f-7114ea579bd5"
      },
      "source": [
        "a>=b"
      ],
      "execution_count": 0,
      "outputs": [
        {
          "output_type": "execute_result",
          "data": {
            "text/plain": [
              "True"
            ]
          },
          "metadata": {
            "tags": []
          },
          "execution_count": 85
        }
      ]
    },
    {
      "cell_type": "code",
      "metadata": {
        "id": "9Xs7wVyr8ypf",
        "colab_type": "code",
        "colab": {},
        "outputId": "eae71d7f-8aee-4bc5-a267-e1edfac40432"
      },
      "source": [
        "a<=b"
      ],
      "execution_count": 0,
      "outputs": [
        {
          "output_type": "execute_result",
          "data": {
            "text/plain": [
              "False"
            ]
          },
          "metadata": {
            "tags": []
          },
          "execution_count": 86
        }
      ]
    },
    {
      "cell_type": "code",
      "metadata": {
        "id": "zvb0C2AI8ypk",
        "colab_type": "code",
        "colab": {},
        "outputId": "3c804105-be81-47b8-9c00-852b2473fc10"
      },
      "source": [
        "a!=b #not equal to b"
      ],
      "execution_count": 0,
      "outputs": [
        {
          "output_type": "execute_result",
          "data": {
            "text/plain": [
              "True"
            ]
          },
          "metadata": {
            "tags": []
          },
          "execution_count": 87
        }
      ]
    },
    {
      "cell_type": "code",
      "metadata": {
        "id": "M5FKlLVW8ypn",
        "colab_type": "code",
        "colab": {},
        "outputId": "36cbb624-cb12-4a87-b2c8-0b8123094560"
      },
      "source": [
        "a"
      ],
      "execution_count": 0,
      "outputs": [
        {
          "output_type": "execute_result",
          "data": {
            "text/plain": [
              "True"
            ]
          },
          "metadata": {
            "tags": []
          },
          "execution_count": 88
        }
      ]
    },
    {
      "cell_type": "code",
      "metadata": {
        "id": "-GooT49i8ypp",
        "colab_type": "code",
        "colab": {},
        "outputId": "d03ba5cc-6c58-46e9-9e54-becf358de8bc"
      },
      "source": [
        "b"
      ],
      "execution_count": 0,
      "outputs": [
        {
          "output_type": "execute_result",
          "data": {
            "text/plain": [
              "False"
            ]
          },
          "metadata": {
            "tags": []
          },
          "execution_count": 89
        }
      ]
    },
    {
      "cell_type": "code",
      "metadata": {
        "id": "V1F-aXNG8ypu",
        "colab_type": "code",
        "colab": {},
        "outputId": "36f3539a-8174-4464-97f6-3a2f39dceaf2"
      },
      "source": [
        "#Identity\n",
        "a is b"
      ],
      "execution_count": 0,
      "outputs": [
        {
          "output_type": "execute_result",
          "data": {
            "text/plain": [
              "False"
            ]
          },
          "metadata": {
            "tags": []
          },
          "execution_count": 90
        }
      ]
    },
    {
      "cell_type": "code",
      "metadata": {
        "id": "UIfFAuTR8ypx",
        "colab_type": "code",
        "colab": {},
        "outputId": "1723246e-3e3c-4d66-add6-ff055b4c1410"
      },
      "source": [
        "a is not b"
      ],
      "execution_count": 0,
      "outputs": [
        {
          "output_type": "execute_result",
          "data": {
            "text/plain": [
              "True"
            ]
          },
          "metadata": {
            "tags": []
          },
          "execution_count": 91
        }
      ]
    },
    {
      "cell_type": "code",
      "metadata": {
        "id": "KT6pxxGH8ypz",
        "colab_type": "code",
        "colab": {}
      },
      "source": [
        "# Membership\n",
        "a = [6,7,8]"
      ],
      "execution_count": 0,
      "outputs": []
    },
    {
      "cell_type": "code",
      "metadata": {
        "id": "eNja5xLF8yp2",
        "colab_type": "code",
        "colab": {},
        "outputId": "4ecceb5b-fb04-419c-a0d8-2f25d7bd2f06"
      },
      "source": [
        "7 in a"
      ],
      "execution_count": 0,
      "outputs": [
        {
          "output_type": "execute_result",
          "data": {
            "text/plain": [
              "True"
            ]
          },
          "metadata": {
            "tags": []
          },
          "execution_count": 93
        }
      ]
    },
    {
      "cell_type": "code",
      "metadata": {
        "id": "-6aIeAE28yp5",
        "colab_type": "code",
        "colab": {},
        "outputId": "7b55a329-6036-42f0-dfd8-2e97d46a0902"
      },
      "source": [
        "8 not in a"
      ],
      "execution_count": 0,
      "outputs": [
        {
          "output_type": "execute_result",
          "data": {
            "text/plain": [
              "False"
            ]
          },
          "metadata": {
            "tags": []
          },
          "execution_count": 94
        }
      ]
    },
    {
      "cell_type": "code",
      "metadata": {
        "id": "8HtMbXKS8yp9",
        "colab_type": "code",
        "colab": {}
      },
      "source": [
        "a*=b"
      ],
      "execution_count": 0,
      "outputs": []
    },
    {
      "cell_type": "code",
      "metadata": {
        "id": "8QwwOtMe8yqA",
        "colab_type": "code",
        "colab": {},
        "outputId": "2ab741f5-3465-44f5-9320-c2f39160e716"
      },
      "source": [
        "a"
      ],
      "execution_count": 0,
      "outputs": [
        {
          "output_type": "execute_result",
          "data": {
            "text/plain": [
              "[]"
            ]
          },
          "metadata": {
            "tags": []
          },
          "execution_count": 96
        }
      ]
    },
    {
      "cell_type": "code",
      "metadata": {
        "id": "T_ZxlaOk8yqE",
        "colab_type": "code",
        "colab": {}
      },
      "source": [
        "a = 4"
      ],
      "execution_count": 0,
      "outputs": []
    },
    {
      "cell_type": "code",
      "metadata": {
        "id": "t5ces2W58yqJ",
        "colab_type": "code",
        "colab": {}
      },
      "source": [
        "b = 5"
      ],
      "execution_count": 0,
      "outputs": []
    },
    {
      "cell_type": "code",
      "metadata": {
        "id": "zd3Np1no8yqO",
        "colab_type": "code",
        "colab": {}
      },
      "source": [
        "a*=b"
      ],
      "execution_count": 0,
      "outputs": []
    },
    {
      "cell_type": "code",
      "metadata": {
        "id": "-oysh5Dh8yqR",
        "colab_type": "code",
        "colab": {},
        "outputId": "3dd79462-03f0-486b-fb8a-f8316b7a59df"
      },
      "source": [
        "a"
      ],
      "execution_count": 0,
      "outputs": [
        {
          "output_type": "execute_result",
          "data": {
            "text/plain": [
              "20"
            ]
          },
          "metadata": {
            "tags": []
          },
          "execution_count": 100
        }
      ]
    },
    {
      "cell_type": "code",
      "metadata": {
        "id": "e9mDlNzi8yqU",
        "colab_type": "code",
        "colab": {},
        "outputId": "4daa4b4d-fc3f-4282-984d-8ca13fc5af3d"
      },
      "source": [
        "a*b"
      ],
      "execution_count": 0,
      "outputs": [
        {
          "output_type": "execute_result",
          "data": {
            "text/plain": [
              "100"
            ]
          },
          "metadata": {
            "tags": []
          },
          "execution_count": 102
        }
      ]
    },
    {
      "cell_type": "code",
      "metadata": {
        "id": "XnXI5zRp8yqX",
        "colab_type": "code",
        "colab": {}
      },
      "source": [
        "import pandas as pd"
      ],
      "execution_count": 0,
      "outputs": []
    },
    {
      "cell_type": "code",
      "metadata": {
        "id": "HvwRkBet8yqZ",
        "colab_type": "code",
        "colab": {}
      },
      "source": [
        "pd.read_csv('')"
      ],
      "execution_count": 0,
      "outputs": []
    }
  ]
}